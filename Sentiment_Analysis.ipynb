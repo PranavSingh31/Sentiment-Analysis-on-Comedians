{
  "nbformat": 4,
  "nbformat_minor": 0,
  "metadata": {
    "colab": {
      "provenance": [],
      "toc_visible": true,
      "authorship_tag": "ABX9TyPteqKtwYuaC8gW0lWVJY+K",
      "include_colab_link": true
    },
    "kernelspec": {
      "name": "python3",
      "display_name": "Python 3"
    },
    "language_info": {
      "name": "python"
    }
  },
  "cells": [
    {
      "cell_type": "markdown",
      "metadata": {
        "id": "view-in-github",
        "colab_type": "text"
      },
      "source": [
        "<a href=\"https://colab.research.google.com/github/PranavSingh31/Sentiment-Analysis-on-Comedians/blob/main/Sentiment_Analysis.ipynb\" target=\"_parent\"><img src=\"https://colab.research.google.com/assets/colab-badge.svg\" alt=\"Open In Colab\"/></a>"
      ]
    },
    {
      "cell_type": "markdown",
      "source": [
        "# Sentiment Analysis"
      ],
      "metadata": {
        "id": "OcNiJ-GhiVS8"
      }
    },
    {
      "cell_type": "markdown",
      "source": [
        "## Getting the Data"
      ],
      "metadata": {
        "id": "6JJ9lcWyiXLr"
      }
    },
    {
      "cell_type": "markdown",
      "source": [
        "transcipts picked up from the website [Scraps From The Loft](http://scrapsfromtheloft.com). Sortlisted these comedy routines using IMDB."
      ],
      "metadata": {
        "id": "dSJevDehifO2"
      }
    },
    {
      "cell_type": "code",
      "execution_count": 1,
      "metadata": {
        "id": "G_XC1MJOlhOA"
      },
      "outputs": [],
      "source": [
        "# Web scraping, pickle imports\n",
        "import requests\n",
        "from bs4 import BeautifulSoup\n",
        "import pickle\n",
        "\n",
        "# Scrapes transcript data from scrapsfromtheloft.com\n",
        "def url_to_transcript(url):\n",
        "    '''Returns transcript data specifically from scrapsfromtheloft.com.'''\n",
        "    page = requests.get(url).text\n",
        "    soup = BeautifulSoup(page, \"lxml\")\n",
        "    text = [p.text for p in soup.find(class_=\"ast-container\").find_all('p')]\n",
        "    print(url)\n",
        "    return text\n",
        "\n",
        "# URLs of transcripts in scope\n",
        "urls = ['https://scrapsfromtheloft.com/comedy/dave-chappelle-whats-in-a-name-transcript/',\n",
        "        'https://scrapsfromtheloft.com/comedy/gabriel-iglesias-stadium-fluffy-transcript/',\n",
        "        'https://scrapsfromtheloft.com/comedy/norm-macdonald-nothing-special-transcript/',\n",
        "        'https://scrapsfromtheloft.com/comedy/vir-das-outside-in-the-lockdown-special-transcript/',\n",
        "        'https://scrapsfromtheloft.com/comedy/stewart-lee-carpet-remnant-world-transcript/',\n",
        "        'https://scrapsfromtheloft.com/comedy/george-carlin-doin-it-again-transcript/',\n",
        "        'https://scrapsfromtheloft.com/comedy/michael-mcintyre-showman-transcript/',\n",
        "        'https://scrapsfromtheloft.com/comedy/tom-papa-youre-doing-great-transcript/',\n",
        "        'https://scrapsfromtheloft.com/comedy/taylor-tomlinson-quarter-life-crisis-transcript/',\n",
        "        'https://scrapsfromtheloft.com/comedy/fortune-feimster-good-fortune-transcript/',\n",
        "        'https://scrapsfromtheloft.com/comedy/ricky-gervais-supernature-transcript/',\n",
        "        'https://scrapsfromtheloft.com/comedy/louis-c-k-sorry-transcript/']\n",
        "\n",
        "# Comedian names\n",
        "comedians = ['dave', 'fluffy', 'norm', 'vir', 'stewart', 'carlin', 'mcintyre', 'papa', 'taylor', 'fortune', 'ricky', 'louis']"
      ]
    },
    {
      "cell_type": "code",
      "execution_count": 2,
      "metadata": {
        "id": "ZYz9E_0vlhOD",
        "colab": {
          "base_uri": "https://localhost:8080/"
        },
        "outputId": "ae8ab761-c2df-44c5-bca2-99d667fc79c6"
      },
      "outputs": [
        {
          "output_type": "stream",
          "name": "stdout",
          "text": [
            "https://scrapsfromtheloft.com/comedy/dave-chappelle-whats-in-a-name-transcript/\n",
            "https://scrapsfromtheloft.com/comedy/gabriel-iglesias-stadium-fluffy-transcript/\n",
            "https://scrapsfromtheloft.com/comedy/norm-macdonald-nothing-special-transcript/\n",
            "https://scrapsfromtheloft.com/comedy/vir-das-outside-in-the-lockdown-special-transcript/\n",
            "https://scrapsfromtheloft.com/comedy/stewart-lee-carpet-remnant-world-transcript/\n",
            "https://scrapsfromtheloft.com/comedy/george-carlin-doin-it-again-transcript/\n",
            "https://scrapsfromtheloft.com/comedy/michael-mcintyre-showman-transcript/\n",
            "https://scrapsfromtheloft.com/comedy/tom-papa-youre-doing-great-transcript/\n",
            "https://scrapsfromtheloft.com/comedy/taylor-tomlinson-quarter-life-crisis-transcript/\n",
            "https://scrapsfromtheloft.com/comedy/fortune-feimster-good-fortune-transcript/\n",
            "https://scrapsfromtheloft.com/comedy/ricky-gervais-supernature-transcript/\n",
            "https://scrapsfromtheloft.com/comedy/louis-c-k-sorry-transcript/\n"
          ]
        }
      ],
      "source": [
        "transcripts = [url_to_transcript(u) for u in urls]"
      ]
    },
    {
      "cell_type": "code",
      "execution_count": 3,
      "metadata": {
        "id": "XLanBi3OlhOE"
      },
      "outputs": [],
      "source": [
        "# Pickle files for later use\n",
        "# Making a new directory to hold the text files\n",
        "!mkdir transcripts\n",
        "\n",
        "for i, c in enumerate(comedians):\n",
        "    with open(\"transcripts/\" + c + \".txt\", \"wb\") as file:\n",
        "        pickle.dump(transcripts[i], file)"
      ]
    },
    {
      "cell_type": "code",
      "execution_count": 4,
      "metadata": {
        "id": "NmlsowsklhOF"
      },
      "outputs": [],
      "source": [
        "# Load pickled files\n",
        "data = {}\n",
        "for i, c in enumerate(comedians):\n",
        "    with open(\"transcripts/\" + c + \".txt\", \"rb\") as file:\n",
        "        data[c] = pickle.load(file)"
      ]
    },
    {
      "cell_type": "code",
      "source": [
        "# Double check to make sure data has been loaded properly\n",
        "data.keys()"
      ],
      "metadata": {
        "colab": {
          "base_uri": "https://localhost:8080/"
        },
        "id": "7oHvSkY7jKvg",
        "outputId": "7183d164-0d1d-4020-fccd-ff560ccf83e1"
      },
      "execution_count": 7,
      "outputs": [
        {
          "output_type": "execute_result",
          "data": {
            "text/plain": [
              "dict_keys(['dave', 'fluffy', 'norm', 'vir', 'stewart', 'carlin', 'mcintyre', 'papa', 'taylor', 'fortune', 'ricky', 'louis'])"
            ]
          },
          "metadata": {},
          "execution_count": 7
        }
      ]
    },
    {
      "cell_type": "code",
      "execution_count": 6,
      "metadata": {
        "colab": {
          "base_uri": "https://localhost:8080/"
        },
        "id": "C3J_TV2TiC9J",
        "outputId": "6fd4641a-0a1c-43eb-8a1c-5537df433596"
      },
      "outputs": [
        {
          "output_type": "execute_result",
          "data": {
            "text/plain": [
              "['[soft piano music playing]',\n",
              " '[Vir Das] What you’re about to watch wasn’t supposed to happen. It’s completely unscripted. It was totally unplanned. It’s just… a moment in time. When the world shut down, we decided to do 30 shows for charity, just to raise money for COVID relief. And every night, I’d ask people the same question. What’s the first thing you’re gonna do, the first thing, when this world reopens? Welcome to lockdown day. I don’t know what day it is. That’s the thing about the entire world going through the same thing at the same time. I guess it’s special. All right. What’s up! What’s up, everyone? Hello! Good evening, and welcome to what promises to be the strangest stand-up comedy gig that you and I have both ever been a part of. If you’re not using earphones, what I ask is that you get as close to the device as you possibly can so that I can hear you laugh. Because if I cannot hear you laugh, then it’s just me in a room talking to myself, worried that I’m going to die. We’ll begin with India’s official unity mantra against the coronavirus. On the count of three, everybody here will say, “Go, corona, go, corona, go, corona, go.” All right. Three, two, one… Go!']"
            ]
          },
          "metadata": {},
          "execution_count": 6
        }
      ],
      "source": [
        "# More checks\n",
        "data['vir'][:2]"
      ]
    },
    {
      "cell_type": "markdown",
      "source": [
        "## Cleaning the Data"
      ],
      "metadata": {
        "id": "94l--JY8kHcm"
      }
    },
    {
      "cell_type": "code",
      "source": [
        "# Let's take a look at our data again\n",
        "next(iter(data.keys()))"
      ],
      "metadata": {
        "colab": {
          "base_uri": "https://localhost:8080/",
          "height": 35
        },
        "id": "jl-chmSekcIz",
        "outputId": "7d1b4224-6634-402d-ed9d-6f844e6a5c01"
      },
      "execution_count": 8,
      "outputs": [
        {
          "output_type": "execute_result",
          "data": {
            "text/plain": [
              "'dave'"
            ],
            "application/vnd.google.colaboratory.intrinsic+json": {
              "type": "string"
            }
          },
          "metadata": {},
          "execution_count": 8
        }
      ]
    },
    {
      "cell_type": "code",
      "source": [
        "# Notice that our dictionary is currently in key: comedian, value: list of text format\n",
        "next(iter(data.values()))"
      ],
      "metadata": {
        "colab": {
          "base_uri": "https://localhost:8080/"
        },
        "id": "qKyl5pw1kiZg",
        "outputId": "f249d1ac-8df3-4444-89c7-1106e3aae1fd"
      },
      "execution_count": 9,
      "outputs": [
        {
          "output_type": "execute_result",
          "data": {
            "text/plain": [
              "['What’s in a Name? is a 40-minute talk Chappelle delivered at Duke Ellington School of the Arts in Washington, D.C., on June 20, 2022',\n",
              " '* * *',\n",
              " 'Art is dangerous.\\nIt is one of the attractions: when it ceases to be dangerous you don’t want it.',\n",
              " 'Duke Ellington',\n",
              " 'Amid the controversy of Dave Chappelle’s Netflix release “The Closer,” Duke Ellington School of the Arts resolved to name its newly renovated theatre “Dave Chappelle Theatre.”\\nThe following is Dave’s acceptance speech for that honor…',\n",
              " '[Dave Chappelle] This… is… surreal.',\n",
              " '[cheering and applause]',\n",
              " 'In 1987… 1987, I moved back… from Ohio to D.C. And– and– and enrolled in Eastern High School, and did…',\n",
              " '[audience member] Whoo!',\n",
              " 'You must not have went there when I went there, champ. Those were tough times is the way I remember it. [chuckles] [groans]',\n",
              " 'When I had gone, I– I had lived with my father for three years. I went to middle school in Ohio, and when I’d gotten back to Washington, the crack epidemic was in full swing, and the city was largely unrecognizable to me. Now I was an older kid, and– and– and kids my age were doing a lot of wild things that I– I didn’t know that kids would do. I– I’d never seen a kid with a pager before, I didn’t know anything about selling drugs, any of that shit. All I knew, every day when I went to Eastern, I didn’t feel safe. [groans]',\n",
              " 'I’m a quiet guy, naturally. I’m a shy person, naturally. And I used to get my hair cut on a barbershop on 15th Street Northeast. And I would go there, and, uh… and everyone in the barbershop would just snap on each other. And I’d sit in the corner, and I– and I’d watch everybody, and just listen to all these jokes. The guys were funny as shit, but– but one day, after a few weeks of goin’ there and gettin’ my hair cut, they– they– they turned the jokes on me. I call that day The Barbershop Massacre. I lit everybody in that barbershop up, I had been sittin’ in there listening to ’em for weeks talk about each other, I knew every inside joke about each and every one of ’em, and they couldn’t believe I knew this stuff. I lit their asses up.',\n",
              " 'From then on in the neighborhood, people kind of liked me, like, “Okay… he’s pretty funny.” Time magazine released an article about Bill Cosby. The headline said, “Fifty, Funny, and Filthy Rich,” and I read that article and it was when I was looking at his face, before all that disgrace, that I looked and I said, “I could do that.” I told my father and my father said, “Well, then just do it.” I said, “Well, I wouldn’t even know where to start,” and he said, “Well, look in the phone book.” It’s before the internet, if you’re young. We used to have a book with phone numbers in it.',\n",
              " 'My father found for me the local comedy club in Washington, D.C. I called ’em… I found out when Open Mic night was, and I started to go there on Tuesday nights… and just watch. And then one night I went on a weekend. I would– I would get my money together and I would go to this comedy club and I would just watch these comedians, and sometimes… sometimes they would talk to me. And I told one of the comedians after the show one night, I said, “Man, I really wanna try to do this.” And– and he said, “Well…” He said… He said, “If you wanna be a good comedian, you should know how to act.” I said, “Why?” And he says, you know… He didn’t explain it. I said, “Okay,” and I told my parents, and– and this is how I came to find out about Duke Ellington. My mother, she said, “There’s a place you can go where you can learn to act right in Washington. It’s a– It’s a high school.” I said, “You mean I would… get out of Eastern?” The school year was already in full swing and Ellington has a policy that they don’t let people just come in the middle of the year, but Lynda Gravatt was the head of the theater department at the time. Very graciously took a meeting with me and my mother, and… I get emotional thinking about it. Anybody that went here?',\n",
              " '[crowd cheers]',\n",
              " 'Remember what it was first like?',\n",
              " '[audience members] Yes! Yes!',\n",
              " 'When you first walked through the door? It was in the afternoon, and everyone was in their arts classes, and the girls had tutus on, and everyone was weird, and walking around the hallway, like, you weren’t sure where anyone was supposed to be, and you could hear people practicing their horns and shit all through the hallways. There was art bouncing off the walls, the minute I walked through the door, there was a gallery of– of all these children’s work and these pictures were amazing.',\n",
              " 'My first thought… when I walked through that door: “I’m not good enough to be here. I’m sure.”',\n",
              " 'And Miss Gravatt sat me down, she told me about the school, and you remember Miss Gravatt? She was very businesslike. But also very warm. She was intimidating, but palpably kind. She was a paradox of a human being. She gave me a date for an audition. My mother said, “Okay, Dave, it’s on you.”',\n",
              " 'Now… Those of you who know me… know that I didn’t prepare for that audition. That audition was like a– a possession, it was just something that I was proud to have.',\n",
              " 'But as the days got closer, I’m like, “Oh, my God, I gotta get– I gotta get something together.” I didn’t even know how to do an audition, And I had never done it before, so I went and I said– I said, “What do I need?” They said, “A monologue,” I… So I looked up “monologue.” And I went to the library, the MLK Library, this huge library, so I gotta find something, and I found a piece in one of those yellow script books, it was a monologue by Mark Twain called “The Judge’s Spirited Woman.” And I learned it in a night. You know, it was not hard for me to memorize things.',\n",
              " 'The next day, it was a Saturday, I think, and I came to the school, and they auditioned in what used to be this room– the original… theater, Duke Ellington School of the Arts. And all the department heads sat in here, and the light’s in your eyes, and there’s a bunch of kids who already go to the school, who come on Saturday, just to see… who might be coming.',\n",
              " 'And I talked to all these kids before I went in, and these kids were nothing like the kids at Eastern. They were like them, but they were different, they were weird, funny, and self-deprecating, things like this.',\n",
              " 'And I remember I came out on stage… and I did my audition, and it was like… like, terrible. I– I froze up in the beginning, I started, and then I said, “Wait a minute, I’m messing up, I’m gonna start again.” [sighs] And I was nervous, and I was scared, and… and… in the middle of the audition, I’m in the middle of the monologue, uh, one of the teachers, Fred Lee, he said– Fred Lee, he goes, “Okay, that’s enough.” I said, “Well, there’s still a little more,” he goes, “No, no, no, no, no… That is enough,” he said.',\n",
              " 'And I– I can’t tell you, like, I– I was crushed. Uh… without saying his disapproval, I knew it stunk. And I was right. When I walked in here, I knew I wasn’t good enough to go to this school. And I thought to myself, “Ah, fuck this school, that’s stupid anyway.”',\n",
              " 'In first-year theater, there’s a question that they ask students from time to time. And it’s a make-or-break question, and… And we ask this question, you don’t know. And the question is this: They say, “Why do you wanna act?” Now… if you say anything like, “I wanna be a star,” you’re not… You’re not gonna get in. I didn’t know that. And I figured I already blew the audition, so I told them the truth. He said, “Why do you wanna act?” “I don’t.” That’s what I said. And they said, “Well then, why are you here?” I said, “Because I wanna be a comedian and some comedian told me that if I wanna be a good comedian, I need to learn how to act.” And the teachers look at each other and go, “Thank you very much,” and I left. And I was walking down the hallway kicking rocks.',\n",
              " 'It was a kid that already went here, his name was Ako Handy. And Ako said, “Hey, man, I listened to them talking about you.” I said, “You did?” He said, “You’re in.” I said, “What?” He said, “You’re in.” But it didn’t make any sense. Somehow we worked it out so that they gave me an early enrollment, and I left Eastern within weeks of that, and I came to Duke Ellington and it was better than I could have ever imagined.',\n",
              " 'I didn’t have the suspicion that most new kids get. I was an oddity, a new toy, I was quirky, I wasn’t a snappy dresser, I didn’t really know what the fuck was going on, because the crack epidemic itself was new to me and they were all refugees from their neighborhood schools. In the morning, we would have our academic classes, and then in the afternoon, we would have our arts classes. It was a long school day. We’d start at 8:30, we wouldn’t leave here ’til five, sometimes 5:30. Whenever they saw fit.',\n",
              " 'It’s funny walking in here tonight, ’cause I saw the Pride flags up, and I remember when I came here all those years ago, it’s the first time I ever met a kid who was just, like, gay. It was never strange to us. Their sexuality or their gender identity was the least remarkable thing about a person that could dance as well as Roger Bellamy, or…',\n",
              " 'There was no distinction between any of that. Everybody was weird in their own way. And in a very strange way, because we spent so much time with one another. We helped raise… one another.',\n",
              " 'There’s a camaraderie between these students that I don’t know that I’ve seen since I left this school. I can remember, and I won’t say names, there was a student that went here that used to sell drugs. It wasn’t just a student, but this particular guy… This particular guy did the cardinal no-no on the streets. He did what they call “not making your roll,” which meant he got some drugs on consignment and he didn’t pay whoever gave him the drugs back. And whoever gave him those drugs had declared, “I’m gonna come to that school, and I’m gonna kill you,” he said. And my man was scared, and word got around, around school, that the goons was coming. And by the time the goons showed up, every dude that went to this school: gay, straight, whatever the fuck, was all standing out front, they say, “You’ll have to kill all of us.” And who was in front of all of ’em? Roger Bellamy with some leg warmers on like this.',\n",
              " 'I started making friends that are still my friends to this very day. Life-long friends.',\n",
              " 'As I get older, I appreciate my teachers more and more. But to tell you the truth, I appreciated them then. Teacher salaries, you know, not necessarily what it should be. And when I think about that, juxtaposed to the dedication that the teachers, the time they would spend with me, the way they would notice, “Are you okay? Is everything all right? You look sad today.” Any little thing, like a family member would. And they fostered an environment of almost absolute trust, like your parents.',\n",
              " 'There’s two lectures that I got at school that changed the way I do comedy. That like… turned the light switch on. It was two teachers: Donal Leace. Donal Leace, may he rest in peace. Maybe one of the single best educators that I’ve ever met in my life. He had a demeanor about himself that demanded excellence from his students. He would tell us incredible stories that I didn’t believe. He claimed… in one class, the song “Killing Him Softly” was about him. I was like, “Nah, n*gga, not you.” He told me he knew Donny Hathaway and Roberta Flack and all these people. These D.C. legends.',\n",
              " 'He’s a humble man, but he really demanded excellence. And he gave us a lecture once on a concept called polarization. Polarization meaning the– the idea that if you can make everybody look at the same thing at the same time, that their rational mind will decrease, and their emotional response will increase. He said, “That’s how audiences work, that’s how mobs work, that’s how you make a person lose themself in the crowd.”',\n",
              " 'I got it. As he was saying this, he would hold a stapler in his hand, it was a good lecture. He said, “Everyone focus on the stapler,” and he would explain to us what polarization is as we’re all looking at this stapler, and then he’d scream, “Hah!” And everyone would jump, “Oh!” He said, “What’re you scared of?” “Oh, shit, that works.”',\n",
              " 'And ever since he did that lecture, I listened in his class intently. He was one of the only guys that I would always get straight As from because I worked very hard, not to get his approval, but to avoid his disapproval.',\n",
              " 'When we were coming up, they had a thing called juries. I don’t know, do they still do juries? Juries is when all the department heads give you a piece to work on, and they sit there, and they make you perform the piece, and the criticism is brutal. And we were kids. We didn’t understand that they were preparing us for a hard world ahead if you wanted a profession in art. They would tear us to shreds. Just the stress… The stress of a jury. And man, I never practiced. ‘Cause I didn’t wanna act.',\n",
              " 'At an improv class, a teacher named Geraldine Gillstrap told me that she should– I should stop doing funny pieces. That I should try to stretch myself artistically. And maybe had more in me than comedy. And at the time, I took offense to that. So because she said that, after school that very night, I went to the comedy club, and for the first time I signed the list, and I waited, and I got on, and I killed it. Killed it. Must have been 35 years ago, night after night, I killed it. I’d show up with the bag of tricks that I learned at school, and I would dominate adults on a regular basis.',\n",
              " 'Couldn’t wait to get out of D.C. When I was 17, I moved to New York and lit that comedy scene up. I was obviously talented. You’ll hear stories about people saying that I discovered Dave Chappelle. That’s like saying you discovered sunshine. I was shining on everybody.',\n",
              " 'And when I got in that professional world, I was oddly prepared. I had a sense of professionalism, I showed up on time, I did the things that I learned in school to do. Just the basics. My… career didn’t have any direction ’cause I was still so young. And that didn’t change for many years.',\n",
              " 'It didn’t change until, uh… my girlfriend at the time, now my wife, told me she was pregnant, and I was like, “You know what? I should really start taking this seriously.”',\n",
              " 'And when she told me that, before the baby was born, I’d done my first HBO special, and then– and then I went to work on a sketch comedy show idea I had, and– and– and The Chappelle Show came out when my son was still maybe 18 months-year old. And I bet on myself. I took less money. I took less money, I remember that, so I could do what I wanted to do. I said, “You don’t have to pay me that much, but you can’t ever tell me… You can’t ever tell me that I can’t do what I wanna do.” And I did the first season, I’ll tell you, for $300,000. Which sounds like a lot of money, but– but– but– but– but…',\n",
              " 'It was a rare experience in my life, because it was the first time that I did something that was so successful that I knew I had exceeded the expectations. I was more successful than I felt like I was supposed to be. They didn’t plan on that.',\n",
              " 'The second season… came out, and it was a juggernaut, and– and– and… and then, I remember this was the single best day of my career, the Rick James episode of Chappelle Show had come out… People were going crazy about the Rick James episode at the same time the– the DVD for Season 1 of Chappelle Show dropped. It was the first time any television show had ever been sold off air. And it sold a million copies in the first day. It was unheard of. To this day, nothing has sold more than Chappelle Show. It’s still on the Top Ten in Netflix.',\n",
              " 'All those great things happened, and my contract was up. Clearly… Clearly, I was about to be rich.',\n",
              " 'I’ll spare you all the details of why it didn’t work out. But it didn’t work out. And I ended up doing something that no one had ever seen before, including myself. Maybe Prince is the only other guy that I’ve seen do this, where you just quit something that was popular when you’re at the very top of it.',\n",
              " 'Lucky for me, when I quit, I went to Africa, so there was a media storm that I didn’t hear. By the time I got back, everyone was just lookin’ at me crazy. That was a very difficult decision to make. The entire world told me I was crazy, but I– I was sure… I was sure I was being true to myself and to something that I learned at Ellington.',\n",
              " 'I’m one of those comedians that thought of himself as an artist. I was enamored by what the genre could do. It was like… the pictures that I could paint with words, and the way I could engage with audiences. I understood as it was happening, I was very lucky to be able to do this. And I protected that. And I knew that if I took the money, they would expect me to behave differently, and I wasn’t willing to accept that, so I quit. And when I quit, it was a very difficult time in my life, that I’ll spare you the details, but man, fuck show business. It was tough.',\n",
              " 'And then one day I was in Panama City, Panama, and I was in a hotel, and I looked at the lobby, there was a– a painting of Abraham Lincoln. Was– And then– I would look closer, it wasn’t a painting, it was all pennies, just pennies on a black canvas, arranged into the face of Abraham Lincoln. And I asked the guy, I said, “How much is that painting worth?” He said, “$600,000, sir.” And I looked at the pennies that made up the painting, and I was like, “That’s like, $300 worth of pennies.”',\n",
              " 'Lightbulb went in my head. I realized the value of art. Some of the biggest wars and crimes and scams in history were financed through the theft of art. Art is a powerful commodity. An artist, if you’re good at it, should never behave as a commodity. It’s a tough one.',\n",
              " 'And then I gave up. ‘Cause it– I said, “Oh– you know, this is probably it.” I accepted the fact that the career I thought I was gonna have was over, but, I started to rediscover just my art for its own sake. I would go to comedy clubs and I’d work for way less money than I ever had, and I enjoyed it more than any of the work I ever did. It was probably the best work I’ll ever do. ‘Cause it was so honest. It was so sincere. There was no media, there was no studio, there was no scrutiny, just me and the crowds. And I did it night after night, and slowly but surely the crowds got bigger and bigger, and then suddenly people started to notice. In post, I would say, “Dave Chappelle has the tour of the year.” And again, and then the year after that, and then the year after that.',\n",
              " 'And then, Lorne Michaels asked me to do Saturday Night Live. And it wasn’t just like he asked me, he was courtin’ me, I didn’t even know it, he gave me this whole long speech, and I was like, “All right.” And then I read some book about Lorne Michaels starting Saturday Night Live, and I read the speech that he gave Richard Pryor when he wanted him to host the show, and I said, “Holy shit, that’s the same shit he said to me!”',\n",
              " 'And I did it. And that was an enormous amount of pressure, it had been 12 years since I’d been on television, or since I’d even talked to the media, and I remember I signed my Netflix contract on my way to my mark for the monologue. If you do live television, they count down every second, “30 seconds…” “Are you sure this contract is good?” “It’s good, just sign the papers…” “22 seconds…” “Aw, nigga, you better not be trickin’ me.”',\n",
              " 'Ten, nine, eight, seven, six, five, four, three, two, one, I walked out on that stage, and I killed it. It was natural. It was nothing. It was easy work. Got an Emmy for that one, too. First Emmy I won. And when I walked on the stage after being in the cold for so long, for the first time when I walked on the stage, I’m like, “Damn, n*gga, I just made 60 million dollars.” That’s what I thought to myself. It’s been great ever since. And really I could do these specials like Steph Curry, I be shooting from inside, outside, all night. It’s been great ever since.',\n",
              " 'A lot of my friends are athletes, and I never could understand what it would feel like to only have a limited amount of time to be great. You got 20 years to be the best, or 30 years to be the best, but when you do art, you could be great whenever the will decides that you’re great. And I feel very lucky for that.',\n",
              " 'And I never forgot this school. I’ve always come back, checked in. One of my favorite honors was doing the commencement at Ellington. Listen, I can’t even remember what year it is. I just remember they cheered for me when I came out, I wasn’t a big star, but I was their star, and I felt like I was home.',\n",
              " 'After I did Lorne Michaels, I mean, after I did Saturday Night Live, Lorne Michaels said something that I gotta share with you. He goes, “You went to Peggy Cafritz’s school, didn’t you?” That’s what he said. I said, “I did,” and he said… he said– I wanted to say this on Saturday Night Live. He goes, “Tell her I owe her money.”',\n",
              " 'You know, I never asked to have this theater named after me. Peggy asked me. She was ailing, and I went to her house to visit her. And she said, “I want you to put your name on the school,” she said, “It would help us raise money for the school,” and to me, it was like, I felt like I’m a little young for that, and I’m still kind of using the name, you know what I mean? Let’s see what I do with it first! You never know… Like, imagine if O.J. had named his son O.J. Junior. “Oh, Dad!”',\n",
              " 'And around then, I was receiving the Mark Twain Prize. Huge honor…',\n",
              " 'And…',\n",
              " '[audience applauds]',\n",
              " 'And the next day, all the artists that came to honor me, the Bradley Coopers and Chris Tuckers, and all these great people who came to Ellington and they taught master classes for the students. And Peggy Cooper Cafritz, as sick as she was, got out of her bed, so she could be with her babies. She never left us. So I did it. So, you know, whatever you wanna do, if I can help, I’ll do it.',\n",
              " 'Now I have to tell you: if you quit a show like Chappelle Show, I don’t know if you know what happens to you professionally, but I’ll tell you what doesn’t happen. They don’t just say, “Well, good luck in your future endeavors.” With that media, they beat me up. With their power, they tried to make me behave, it’s– -it– it takes a strong person to stand out in the cold like that, and I swear to God, so much of the strength I got to do that, the inner warmth I got to do that, I learned in this school, and from my friends who helped raise me.',\n",
              " 'So why wouldn’t… I’d do anything I could to help my benefactor. And the last time I came back, after The Closer, when the kids were mad at me, I got to tell you, that was quite the day. All the kids was screaming and yelling, I remember, I said to the kids, I go, “Well, okay, well what do you guys think I did wrong?” And a line formed. These kids said everything about gender, and this and that and the other, but they didn’t say anything about art. And this is my biggest gripe with this whole controversy with The Closer: that you cannot report on an artist’s work, and remove artistic nuance from his words. It would be like if you were reading a newspaper and they say, “Man Shot in the Face by a Six-Foot Rabbit Expected to Survive,” you’d be like “Oh, my God,” and they never tell you it’s a Bugs Bunny cartoon.',\n",
              " 'I took a lot of cold shots… in show business. And I gotta tell you, as the years go on, you feel the shots less and less. “Ah, it’s just the business,” is what you say. But that one, that day, boy, that day they hurt me. When I heard those talking points coming out of these children’s faces, that really, sincerely, hurt me. Because I know those kids didn’t come up with those words, I’ve heard those words before. The more you say I can’t say something, the more urgent it is for me to say it. And it has nothing to do with what you’re saying I can’t say. It has everything to do with my right, my freedom… of artistic expression. That is valuable to me. That is not severed from me. It’s worth protecting for me, and it’s worth protecting for everyone else who endeavors in our noble, noble professions. And these kids… And these kids didn’t understand that they were instruments… instruments of oppression. And I didn’t get mad at them. They’re kids. They’re freshmen. They’re not ready yet. They don’t know.',\n",
              " 'What made me mad… and I am this petty… I ain’t sayin’ names. One of the kid’s mother went on Fox News, and she used to be a student here, I remember her face but I don’t know if she was particularly popular. Anyway. She was in the Literary Media Arts department. She said a lot of things that I didn’t like, lot of things. But, you know, that’s her right. The thing she said that got to me, she said, “At Duke Ellington, that theater was a sanctuary for students. I used to sit there and meditate.” Well, of course you’d meditate. You were a Literary Media Arts student. We didn’t meditate in here. We got to work. But, okay, fine. “I would sit in there and meditate,” she said.',\n",
              " 'And then she scrunched her face up. She’s a beautiful woman, but her face looked hideous, the way she scrunched it up, and she said, “And just to imagine… his name… on that theater. How could you do that to those kids?”',\n",
              " 'Listen. No matter what they said about The Closer, it was still the most-watched special in the world. And I am still of the mind, and I say this with all humility, it is a masterpiece, and I challenge all my p– my peers– to make its equal. They cannot. I am sure. It will be decades before you ever see someone in my genre as proficient as me. I am maybe a once-in-a-lifetime talent. I am telling you the truth.',\n",
              " 'About three weeks ago I saw in the newspaper that a man, they said a man that was dressed in women’s clothing, threw a– a pie at the Mona Lisa and tried to deface it. And– and it made me laugh, ’cause I’m like, “It’s like The Closer.”',\n",
              " 'I said it to the kids that day: if you have a better idea, then express it. And you can beat me. It’s that easy. If you have more talent than me, then display it and you can beat me with certainty. This is what our genre is about.',\n",
              " 'The idea that my name will be turned into a– a– a instrument of someone else’s perceived oppression is untenable to me. The fact that if my name was on this theater, and a kid that walked through that door would feel anything other than pride in his school and in their endeavors, that’s untenable to me.',\n",
              " 'So on Friday, I decided… that I don’t want my name on the school. Hear me out. The Ellington family is my family. When this controversy came out, and students were angry, at the height of their anger, they said, “We still wanna name the theater after you.” They taught the kids about the nuance of art and activism. And to– I feel a great deal of success, and it came around. So it’s not that they did not wanna give this to me, they’re still my family. And, I’m not gonna say I don’t want it. I’m gonna say I’ll defer it. Rather than give this theater my name, I would like to give these students my message. To them.',\n",
              " 'So it is with great honor, that I unveil the new name of this theater, the Jerrod Carmichael Theater. I’m just kidding, I’m just kiddin’… I’m just kiddin’. I’m totally joking. Uh, let me see if I can get this here. This theater should be called… The Theater for Artistic Freedom and Expression. I want that for myself, and I want it for every student that’s educated at this school. And when and if you are ever ready, you can put my name right on top of that.',\n",
              " 'I love you, Duke Ellington, thank you very much. Thank you very much. Thank you very much.',\n",
              " 'Ladies and gentlemen, it is my pleasure to bring off his new album Leace Renewed, the first single “Flow to You,” give it up for the best-hitter history teacher in the world, Mr. Leace.',\n",
              " '[laughter from class]',\n",
              " '[Mr. Leace and students singing]',\n",
              " '[students begin clapping]',\n",
              " 'Come on! Here we go.',\n",
              " '[all clapping]',\n",
              " 'That’s the show! I’ll see you next year!',\n",
              " '[whispering] Bitches.',\n",
              " '[all laugh]',\n",
              " '[announcer] This is protected by the red, the black, and the green at the crossroad with a key!',\n",
              " '* * *',\n",
              " 'by Mark Twain',\n",
              " '“I was sitting here,” said the judge, “in this old pulpit, holding court, and we were trying a big, wicked-looking Spanish desperado for killing the husband of a bright, pretty Mexican woman. It was a lazy summer day, and an awfully long one, and the witnesses were tedious. None of us took any interest in the trial except that nervous, uneasy devil of a Mexican woman because you know how they love and how they hate, and this one had loved her husband with all her might, and now she had boiled it all down into hate, and stood here spitting it at that Spaniard with her eyes; and I tell you she would stir me up, too, with a little of her summer lightning, occasionally. Well, I had my coat off and my heels up, lolling and sweating, and smoking one of those cabbage cigars the San Francisco people used to think were good enough for us in those times; and the lawyers they all had their coats off, and were smoking and whittling, and the witnesses the same, and so was the prisoner. Well, the fact is, there warn’t any interest in a murder trial then, because the fellow was always brought in ‘not guilty,’ the jury expecting him to do as much for them some time; and, although the evidence was straight and square against this Spaniard, we knew we could not convict him without seeming to be rather high-handed and sort of reflecting on every gentleman in the community; for there warn’t any carriages and liveries then, and so the only ‘style’ there was, was to keep your private graveyard. But that woman seemed to have her heart set on hanging that Spaniard; and you’d ought to have seen how she would glare on him a minute, and then look up at me in her pleading way, and then turn and for the next five minutes search the jury’s faces, and by and by drop her face in her hands for just a little while as if she was most ready to give up; but out she’d come again directly, and be as live and anxious as ever. But when the jury announced the verdict–Not Guilty–and I told the prisoner he was acquitted and free to go, that woman rose up till she appeared to be as tall and grand as a seventy-four-gun ship, and says she:',\n",
              " '“‘Judge, do I understand you to say that this man is not guilty that murdered my husband without any cause before my own eyes and my little children’s, and that all has been done to him that ever justice and the law can do?’',\n",
              " '“‘The same,’ says I.',\n",
              " '“And then what do you reckon she did? Why, she turned on that smirking Spanish fool like a wildcat, and out with a ‘navy’ and shot him dead in open court!”',\n",
              " '“That was spirited, I am willing to admit.”',\n",
              " '“Wasn’t it, though?” said the judge admiringly.',\n",
              " '“I wouldn’t have missed it for anything. I adjourned court right on the spot, and we put on our coats and went out and took up a collection for her and her cubs, and sent them over the mountains to their friends. Ah, she was a spirited wench!”',\n",
              " 'Your email address will not be published. Required fields are marked *',\n",
              " 'Name*',\n",
              " 'E-mail*',\n",
              " 'Website',\n",
              " ' \\n\\n',\n",
              " 'Dave Chappelle talks about Kanye West, the 2022 midterm elections and Donald Trump.',\n",
              " 'With topics ranging from tight rompers to ugly bras to why every man needs a box spring, Iliza remains the hilarious, affecting voice of her generation.',\n",
              " 'Features Gabriel “Fluffy” Iglesias as he talks about growing up in Los Angeles, an attempt at extortion towards him, and where he holds the record for receiving the highest fine on stage.',\n",
              " 'Fortune reflects on her own good fortune, including some big life events she’s experienced the last couple years like falling in love with her wife and the extravagant proposal she planned that didn’t go as expected, and much more.']"
            ]
          },
          "metadata": {},
          "execution_count": 9
        }
      ]
    },
    {
      "cell_type": "code",
      "source": [
        "def combine_text(list_of_text):\n",
        "    '''Takes a list of text and combines them into one large chunk of text.'''\n",
        "    combined_text = ' '.join(list_of_text)\n",
        "    return combined_text"
      ],
      "metadata": {
        "id": "XJyUxYjkkGpr"
      },
      "execution_count": 10,
      "outputs": []
    },
    {
      "cell_type": "code",
      "source": [
        "data_combined = {key: [combine_text(value)] for (key, value) in data.items()}"
      ],
      "metadata": {
        "id": "sBY-MYaYkn1O"
      },
      "execution_count": 11,
      "outputs": []
    },
    {
      "cell_type": "code",
      "execution_count": 12,
      "metadata": {
        "id": "h-YJFP_ZlhOI",
        "colab": {
          "base_uri": "https://localhost:8080/",
          "height": 426
        },
        "outputId": "8e2844b9-f3cb-40e0-ae64-c47ae70bddd3"
      },
      "outputs": [
        {
          "output_type": "execute_result",
          "data": {
            "text/plain": [
              "                                                                                                                                                                                             transcript\n",
              "carlin    Recorded on January 12–13, 1990, State Theatre, New Brunswick, New Jersey So you want to talk about it? Oh yeah. It all started in 1977. I mean, that’s when I started doing it regularly....\n",
              "dave      What’s in a Name? is a 40-minute talk Chappelle delivered at Duke Ellington School of the Arts in Washington, D.C., on June 20, 2022 * * * Art is dangerous.\\nIt is one of the attractions...\n",
              "fluffy    [man] Can you please state your name? Martin Moreno. But you might know me as… Martinnnnn! I’ve been touring with Gabriel Iglesias for 20-plus years. Martinnnnn! And, yeah, he’s been scr...\n",
              "fortune   [upbeat music plays] [audience cheering] [announcer] Please welcome Fortune Feimster! ♪ I’m a powerful woman ♪ ♪ Always get what I want ♪ ♪ So don’t you get in my way now That’s not what...\n",
              "louis     Recorded at the Madison Square Garden on August 14, 2021 * * * ♪♪ [“Like a Rolling Stone” by Bob Dylan playing] ♪♪ ♪ Once upon a time you dressed so fine ♪\\n♪ Threw the bums a dime in yo...\n",
              "mcintyre  Released on September 15, 2020 [Netflix] Ladies and gentlemen, please welcome to the stage Michael McIntyre! Bravo! Good evening, ladies and gentlemen! Welcome… …to my Netflix special! L...\n",
              "norm      Norm was working hard preparing material for his Netflix special – until COVID shut things down. In the summer of 2020, he was scheduled to undergo a procedure and as he put it, “didn’t ...\n",
              "papa      [applause, whooping] [presenter] Ladies and gentlemen, Tom Papa. [mouths] [whistling and cheering] [mouths] Thank you. Thank you. Thank you. Look at you. Look at you. New Jersey. [cheeri...\n",
              "ricky     [audience cheering and applauding] [announcer] Good evening, ladies and gentlemen. Please welcome to the stage a man who really doesn’t need to do this. [audience laughing] Ricky Gervais...\n",
              "stewart   (’70s GERMAN ROCK MUSIC PLAYING) ANNOUNCER: Ladies and gentlemen, it’s time to enter the Carpet Remnant World of Stewart Lee! (AUDIENCE APPLAUDING) That was a bit heavy metal, rock and r...\n",
              "taylor    [“Making Love to the Dead” by Beginners plays] ♪ Darling, go ♪ ♪ Hey ♪\\n♪ Watch your head ♪\\n♪ Don’t look down, baby ♪\\n♪ Under the bed ♪\\n♪ Let it show ♪\\n♪ What you’ve read… ♪ [emcee] ...\n",
              "vir       [soft piano music playing] [Vir Das] What you’re about to watch wasn’t supposed to happen. It’s completely unscripted. It was totally unplanned. It’s just… a moment in time. When the wor..."
            ],
            "text/html": [
              "\n",
              "  <div id=\"df-099ca99f-4968-43e0-9db9-81653f0764ba\">\n",
              "    <div class=\"colab-df-container\">\n",
              "      <div>\n",
              "<style scoped>\n",
              "    .dataframe tbody tr th:only-of-type {\n",
              "        vertical-align: middle;\n",
              "    }\n",
              "\n",
              "    .dataframe tbody tr th {\n",
              "        vertical-align: top;\n",
              "    }\n",
              "\n",
              "    .dataframe thead th {\n",
              "        text-align: right;\n",
              "    }\n",
              "</style>\n",
              "<table border=\"1\" class=\"dataframe\">\n",
              "  <thead>\n",
              "    <tr style=\"text-align: right;\">\n",
              "      <th></th>\n",
              "      <th>transcript</th>\n",
              "    </tr>\n",
              "  </thead>\n",
              "  <tbody>\n",
              "    <tr>\n",
              "      <th>carlin</th>\n",
              "      <td>Recorded on January 12–13, 1990, State Theatre, New Brunswick, New Jersey So you want to talk about it? Oh yeah. It all started in 1977. I mean, that’s when I started doing it regularly....</td>\n",
              "    </tr>\n",
              "    <tr>\n",
              "      <th>dave</th>\n",
              "      <td>What’s in a Name? is a 40-minute talk Chappelle delivered at Duke Ellington School of the Arts in Washington, D.C., on June 20, 2022 * * * Art is dangerous.\\nIt is one of the attractions...</td>\n",
              "    </tr>\n",
              "    <tr>\n",
              "      <th>fluffy</th>\n",
              "      <td>[man] Can you please state your name? Martin Moreno. But you might know me as… Martinnnnn! I’ve been touring with Gabriel Iglesias for 20-plus years. Martinnnnn! And, yeah, he’s been scr...</td>\n",
              "    </tr>\n",
              "    <tr>\n",
              "      <th>fortune</th>\n",
              "      <td>[upbeat music plays] [audience cheering] [announcer] Please welcome Fortune Feimster! ♪ I’m a powerful woman ♪ ♪ Always get what I want ♪ ♪ So don’t you get in my way now That’s not what...</td>\n",
              "    </tr>\n",
              "    <tr>\n",
              "      <th>louis</th>\n",
              "      <td>Recorded at the Madison Square Garden on August 14, 2021 * * * ♪♪ [“Like a Rolling Stone” by Bob Dylan playing] ♪♪ ♪ Once upon a time you dressed so fine ♪\\n♪ Threw the bums a dime in yo...</td>\n",
              "    </tr>\n",
              "    <tr>\n",
              "      <th>mcintyre</th>\n",
              "      <td>Released on September 15, 2020 [Netflix] Ladies and gentlemen, please welcome to the stage Michael McIntyre! Bravo! Good evening, ladies and gentlemen! Welcome… …to my Netflix special! L...</td>\n",
              "    </tr>\n",
              "    <tr>\n",
              "      <th>norm</th>\n",
              "      <td>Norm was working hard preparing material for his Netflix special – until COVID shut things down. In the summer of 2020, he was scheduled to undergo a procedure and as he put it, “didn’t ...</td>\n",
              "    </tr>\n",
              "    <tr>\n",
              "      <th>papa</th>\n",
              "      <td>[applause, whooping] [presenter] Ladies and gentlemen, Tom Papa. [mouths] [whistling and cheering] [mouths] Thank you. Thank you. Thank you. Look at you. Look at you. New Jersey. [cheeri...</td>\n",
              "    </tr>\n",
              "    <tr>\n",
              "      <th>ricky</th>\n",
              "      <td>[audience cheering and applauding] [announcer] Good evening, ladies and gentlemen. Please welcome to the stage a man who really doesn’t need to do this. [audience laughing] Ricky Gervais...</td>\n",
              "    </tr>\n",
              "    <tr>\n",
              "      <th>stewart</th>\n",
              "      <td>(’70s GERMAN ROCK MUSIC PLAYING) ANNOUNCER: Ladies and gentlemen, it’s time to enter the Carpet Remnant World of Stewart Lee! (AUDIENCE APPLAUDING) That was a bit heavy metal, rock and r...</td>\n",
              "    </tr>\n",
              "    <tr>\n",
              "      <th>taylor</th>\n",
              "      <td>[“Making Love to the Dead” by Beginners plays] ♪ Darling, go ♪ ♪ Hey ♪\\n♪ Watch your head ♪\\n♪ Don’t look down, baby ♪\\n♪ Under the bed ♪\\n♪ Let it show ♪\\n♪ What you’ve read… ♪ [emcee] ...</td>\n",
              "    </tr>\n",
              "    <tr>\n",
              "      <th>vir</th>\n",
              "      <td>[soft piano music playing] [Vir Das] What you’re about to watch wasn’t supposed to happen. It’s completely unscripted. It was totally unplanned. It’s just… a moment in time. When the wor...</td>\n",
              "    </tr>\n",
              "  </tbody>\n",
              "</table>\n",
              "</div>\n",
              "      <button class=\"colab-df-convert\" onclick=\"convertToInteractive('df-099ca99f-4968-43e0-9db9-81653f0764ba')\"\n",
              "              title=\"Convert this dataframe to an interactive table.\"\n",
              "              style=\"display:none;\">\n",
              "        \n",
              "  <svg xmlns=\"http://www.w3.org/2000/svg\" height=\"24px\"viewBox=\"0 0 24 24\"\n",
              "       width=\"24px\">\n",
              "    <path d=\"M0 0h24v24H0V0z\" fill=\"none\"/>\n",
              "    <path d=\"M18.56 5.44l.94 2.06.94-2.06 2.06-.94-2.06-.94-.94-2.06-.94 2.06-2.06.94zm-11 1L8.5 8.5l.94-2.06 2.06-.94-2.06-.94L8.5 2.5l-.94 2.06-2.06.94zm10 10l.94 2.06.94-2.06 2.06-.94-2.06-.94-.94-2.06-.94 2.06-2.06.94z\"/><path d=\"M17.41 7.96l-1.37-1.37c-.4-.4-.92-.59-1.43-.59-.52 0-1.04.2-1.43.59L10.3 9.45l-7.72 7.72c-.78.78-.78 2.05 0 2.83L4 21.41c.39.39.9.59 1.41.59.51 0 1.02-.2 1.41-.59l7.78-7.78 2.81-2.81c.8-.78.8-2.07 0-2.86zM5.41 20L4 18.59l7.72-7.72 1.47 1.35L5.41 20z\"/>\n",
              "  </svg>\n",
              "      </button>\n",
              "      \n",
              "  <style>\n",
              "    .colab-df-container {\n",
              "      display:flex;\n",
              "      flex-wrap:wrap;\n",
              "      gap: 12px;\n",
              "    }\n",
              "\n",
              "    .colab-df-convert {\n",
              "      background-color: #E8F0FE;\n",
              "      border: none;\n",
              "      border-radius: 50%;\n",
              "      cursor: pointer;\n",
              "      display: none;\n",
              "      fill: #1967D2;\n",
              "      height: 32px;\n",
              "      padding: 0 0 0 0;\n",
              "      width: 32px;\n",
              "    }\n",
              "\n",
              "    .colab-df-convert:hover {\n",
              "      background-color: #E2EBFA;\n",
              "      box-shadow: 0px 1px 2px rgba(60, 64, 67, 0.3), 0px 1px 3px 1px rgba(60, 64, 67, 0.15);\n",
              "      fill: #174EA6;\n",
              "    }\n",
              "\n",
              "    [theme=dark] .colab-df-convert {\n",
              "      background-color: #3B4455;\n",
              "      fill: #D2E3FC;\n",
              "    }\n",
              "\n",
              "    [theme=dark] .colab-df-convert:hover {\n",
              "      background-color: #434B5C;\n",
              "      box-shadow: 0px 1px 3px 1px rgba(0, 0, 0, 0.15);\n",
              "      filter: drop-shadow(0px 1px 2px rgba(0, 0, 0, 0.3));\n",
              "      fill: #FFFFFF;\n",
              "    }\n",
              "  </style>\n",
              "\n",
              "      <script>\n",
              "        const buttonEl =\n",
              "          document.querySelector('#df-099ca99f-4968-43e0-9db9-81653f0764ba button.colab-df-convert');\n",
              "        buttonEl.style.display =\n",
              "          google.colab.kernel.accessAllowed ? 'block' : 'none';\n",
              "\n",
              "        async function convertToInteractive(key) {\n",
              "          const element = document.querySelector('#df-099ca99f-4968-43e0-9db9-81653f0764ba');\n",
              "          const dataTable =\n",
              "            await google.colab.kernel.invokeFunction('convertToInteractive',\n",
              "                                                     [key], {});\n",
              "          if (!dataTable) return;\n",
              "\n",
              "          const docLinkHtml = 'Like what you see? Visit the ' +\n",
              "            '<a target=\"_blank\" href=https://colab.research.google.com/notebooks/data_table.ipynb>data table notebook</a>'\n",
              "            + ' to learn more about interactive tables.';\n",
              "          element.innerHTML = '';\n",
              "          dataTable['output_type'] = 'display_data';\n",
              "          await google.colab.output.renderOutput(dataTable, element);\n",
              "          const docLink = document.createElement('div');\n",
              "          docLink.innerHTML = docLinkHtml;\n",
              "          element.appendChild(docLink);\n",
              "        }\n",
              "      </script>\n",
              "    </div>\n",
              "  </div>\n",
              "  "
            ]
          },
          "metadata": {},
          "execution_count": 12
        }
      ],
      "source": [
        "# We can either keep it in dictionary format or put it into a pandas dataframe\n",
        "import pandas as pd\n",
        "pd.set_option('max_colwidth',190)\n",
        "\n",
        "data_df = pd.DataFrame.from_dict(data_combined).transpose()\n",
        "data_df.columns = ['transcript']\n",
        "data_df = data_df.sort_index()\n",
        "data_df"
      ]
    },
    {
      "cell_type": "code",
      "source": [
        "# Transcript for Vir Das\n",
        "data_df.transcript.loc['vir']"
      ],
      "metadata": {
        "colab": {
          "base_uri": "https://localhost:8080/",
          "height": 122
        },
        "id": "NrLzSYp9k3n0",
        "outputId": "e9d27c5d-6944-4c04-821a-749447a2ed57"
      },
      "execution_count": 16,
      "outputs": [
        {
          "output_type": "execute_result",
          "data": {
            "text/plain": [
              "'[soft piano music playing] [Vir Das] What you’re about to watch wasn’t supposed to happen. It’s completely unscripted. It was totally unplanned. It’s just… a moment in time. When the world shut down, we decided to do 30 shows for charity, just to raise money for COVID relief. And every night, I’d ask people the same question. What’s the first thing you’re gonna do, the first thing, when this world reopens? Welcome to lockdown day. I don’t know what day it is. That’s the thing about the entire world going through the same thing at the same time. I guess it’s special. All right. What’s up! What’s up, everyone? Hello! Good evening, and welcome to what promises to be the strangest stand-up comedy gig that you and I have both ever been a part of. If you’re not using earphones, what I ask is that you get as close to the device as you possibly can so that I can hear you laugh. Because if I cannot hear you laugh, then it’s just me in a room talking to myself, worried that I’m going to die. We’ll begin with India’s official unity mantra against the coronavirus. On the count of three, everybody here will say, “Go, corona, go, corona, go, corona, go.” All right. Three, two, one… Go! [audience] Go, corona, go, corona, go, corona, go. I’m not sure how this is going to go. Zoom shows, the future of stand-up… or the prelude to the death. What’s the first thing you’re going to do once the lockdown ends? Where’s the girlfriend? Santacruz. You look very young. You look like you’ve just read Harry Potter. [audience laughing] Like you’ve just finished the last page of Deathly Hallows. How old are you? Seventeen. How long has it been since you saw the girlfriend? Two months. Two months! That’s like, way before the virus. I think she might’ve left you, buddy, like… Just saying. That’s before the lockdown. -[audience laughing] She attended your show, er, two days ago on the 15th. So I got a recommendation from your girlfriend. That sounds wrong. No, no… [audience laughing] Comedically, f*ck you, you tharki people, all right? I do not interact with 17-year-old girls ever, on policy, under any circumstances. [Sargam] Celebrate my birthday. Sargam, where are you joining us from? [Sargam] Chicago. Chicago? Jesus! What time is it there, darling? [Sargam] Oh, it’s morning time. It’s 9:34. 9:34… I mean, where the f*ck do you have to be, right? So, that’s great. [audience laughing] Americans, you wake up really early. They get to work by 8 o’clock over there, right? That’s how they’re the most powerful country… Er… Were the most powerful country in the world. Er… Before… Before somebody ate a bat… [all laughing] …and crashed your economy. A bat f*cked your country. Your whole country from across the world. And you thought a butterfly had a big effect. [laughing] That’s the toughest thing about this virus. It’s like we don’t know who to blame. ‘Cause that’s like the hallmark of being Indian, is before you solve a problem, you blame it on somebody else. And this is new territory for us. This is the first thing we’ve experienced in the last 73 years that is not Pakistan’s fault. [audience laughing] We are not used to things not being Pakistan’s fault. Now, all our politicians are on TV in masks. It’s great. It’s great to see conservative Hindu leaders dressing up exactly like the Muslim women they oppress. [audience laughing] We’re allowed to meet one person from outside your family, out in a park, with two-meter distance. [all laughing] Who are you utilizing this rule for? Who’s that person you’re meeting? -That’s my girlfriend. -Your girlfriend? [all laughing] And when you… When you meet your girlfriend, your steady girlfriend, after six weeks… in a park… er… you intend to socially distance? I highly doubt that. That’s why I am not gonna meet her until the lockdown is over. Can you ima… Like, I’m just picturing two people who are desperate and horny, standing two meters away from each other. And his girlfriend just going, “Man, I wish your dick was bigger right now, I really do.” “That would be so much more useful.” Eat food from my favourite place. “Eat food.” Okay, great. So, Srushti Shah, er… You know, I’m glad you completed the sentence. You know what I mean? Where you were like, “Eat food,” and we all got worried about you. And then you were like, “No, from my favourite place.” We were like, “She’s privileged. It’s fine.” We all got it then. It is okay. Yo, what are you studying? Fashion design. Fashion design. Okay, cool. We’ll pretend that’s a course. No, I’m joking. I’m joking. In Gandhinagar? Yeah. Good. You know, Gandhiji was known for great fashion. Er… [audience laughing] He had that one outfit that was really popular, you know. And he designed it himself, and, you know, it’s… Okay. Did you hear that uncomfortable silence, Srushti? On the Zoom call. All right. Cool. Erm… I love Asian food. Okay. The place is called TG’s. That’s the first place I’m going for. You’re eating dal-sabzi and all at home? Haan. You know that’s Asian food. [audience laughing] Oriental food. I’m just putting it out there, like… Cool. You realize we’re not in Scotland right now. Technically, this is… [laughs] I may be in a place that the virus came from, normally. You live… You’re from Wuhan, really? No, no, no. Are you patient zero? You brought it over? Normally, I live and I work in China. I do think that it’s a lot worse than maybe what they’ve let on. No. I mean, China is just like, “No, that’s not a body, that’s a…” “He’s just sleeping,” right? That’s basically all China’s been doing. “We’ve absolutely no new cases.” [imitates gunshots] [Upasna] Graduate. Upasna, graduate in what? Architecture from Manipal University. Architecture from Manipal University, which is half real. Let’s be honest, all right. [audience laughing] The field of architecture is real, but Manipal University means, “Papa gave 20 lakhs in a suitcase to somebody.” That’s basically what that shit is, right? There are places in Gandhinagar where you can go. NIFT, Gandhinagar. NIFT, Gandhinagar, cool. There’s… Er… The National Institute of Fashion Technology, right? That’s what NIFT is? Yes. ‘Cause, you know, fashion is all about technology. Er… [audience laughing] You know, sometimes… [laughs] Sometimes, I’ll put on a T-shirt and I’ll be like, “My God, this is hi-tech.” You know… “This is just…” “Whoever designed this…” [chuckles] “You know, when I eat Asian food, it just slides right off.” “How did they make that happen with this T-shirt?” I think I made fun of the fashion girl a little too much. Like, no stylist is ever gonna work with me again. It’s okay. Isn’t it all just hazmat suits for the next f*ckin’ decade? “Asian food.” It’s… I had to, I’m sorry. [man] Celebrate 420. Oh, man. Don’t you have ganja? [man] No, bro. So, every time I go to a college, people write in there, “Vir Das. ‘Babaji ki Booty.’ Do you wanna get high together, bro?” “You want to smoke a ‘J’ together, bro?” And I’m like, “No!” Can you imagine what would happen if you, a college kid, got high with me, a 40-year-old man? And you’re like… [inhales deeply] “Hey, Vir Das, do you feel like the moon landing was fake and they never told us about that shit?” [audience laughing] You know, and I’d be like, “I have acid reflux.” Like, you know… [laughs] It would just be such a sad day. Are you able to smoke in your house? Yeah. Late night, I sneak up to my terrace and do things when they’re sleeping. You realize they know, right? They’re in their bed, like… [sniffs] “That’s Manali.” That’s what’s happening in your house right now. What’s the first thing you’re going to do after the lockdown ends? Somebody yell it out. [Tanay] Stay home. Who the f*ck is that? What are you sitting on? Is that a video gamer’s chair? Is that what that is? That’s a gamer’s chair, yeah. That’s a gamer’s chair, yeah. [audience laughing] Just have some multivits, buddy, because… I mean… Gamer generation, you guys… You can’t survive a peanut allergy. I’m not confident of your abilities in a pandemic. I am sorry. If you had to go outside, where would you go, what was your thing? Clubbing. What’s your favourite club? It was Tryst, but then it shut down for renovation. Yeah, bro, I feel you. Tryst… [all laughing] Tryst. Tryst was lit AF. You know, like, just… You know, like, f*ckin’ Friday night. Have like a… A Rooh Afza shot and build a world and… Head out to Tryst. [woman] I’m from Dubai, UAE. You’re from UAE. That’s not really, yaar… That’s just… [audience laughing] That’s just India with cleaner and meaner people. If India loved architecture more and hated Indians more, that’s Dubai. [audience laughing] So lockdown has been extended, again. And it will probably be extended again. And again… And again, and again, and… What’s the first thing you guys are gonna do after the lockdown ends? Yell it out. [man] I’ll have ice cream. Is it not available where you are? [audience laughing] I think it’s not available anywhere. Because what we’re doing here, I don’t know if you guys are doing this… Like, the package comes and then we sanitize the package. Er, and then, we take the food and immediately put it in another container and microwave that shit for 30 seconds to nuke all the f*ckin’… So just do that with your ice cream. Have some soup, man. [laughs] I don’t know what else to… [audience laughing] Pranav, you’re in Karnataka. What do you do, buddy? Er, actually, I was supposed… I’m supposed to go to US for my studies. I am just waiting. [woman] Oh… Pranav, I have bad news. [Pranav chuckles] [woman] Aw… Er… And… But you have the visa and everything, it’s all done? No, no. Only I have admission and I have the date. [Pranav chuckles] [women] Aw… I hope it happens, man. I really, really do. Like, I’m f*ckin’… Thanks. I’m rooting for you. Like, positive energy from me to you. It’s completely unrealistic, but still, from me to you. Yes. [audience laughing] [Vir Das] I know what it is to have that feeling, you know, firsthand. That feeling of, er… “I wanna go to America. My life’s gonna change.” “Everything’s gonna be…” I hope this kid makes it there before this virus kills that feeling. ‘Cause that feeling is important. [chuckles] I was feeling sorry for myself before the show. This kid is going through that. He just wants ice cream. That’s what he wants. Ice cream. And I need to toughen the f*ck up and… keep doing this. What’s your name? Hillary. Hillary? [Hillary] Yeah, from Moscow. Hillary from Moscow, really? Oh, so… Oh, wow… So you are Mr. Hillary Dsouza. Good to see you, sir. That’s right. That’s right. That was not the surname that I was expecting when I heard “Hillary.” [all laughing] I’m gonna be very honest, I thought of an unhappy wife. Er… Millennials, that’s a Hillary Clinton joke, never mind. We’ll get to it. It’s the news. [indistinct chatter] It’s fine. No, no, no… She didn’t win. She doesn’t deserve your laughter. [Hetika] Go attend my dance class. Non-virtual. Hetika. What’s up, Hetika? What kind of dance? Erm, so I’m learning bhangra currently. Yo, lady. You don’t have to learn bhangra. I don’t think there’s bhangra classes. -[audience laughing] There are. A more formal way of it. But, yeah. What happens in bhangra class? Er, sastriyaakaal, welcome to… [laughs] [Hetika] That. Just that and– Welcome to bhangra class. There are two buttons on ceiling. Hit buttons. I don’t know what the… Absolutely. For some reason, Indians do bhangra to classic rock. I don’t know if you’ve like– Oh, God. That’s horrible. They’re like, “‘November Rain,’ bhenchod.” Like, you know… It’s just… [audience laughing] I love it when we make white people do bhangra, ’cause they’re so happy to be included, right? They’re just like… “I think they forgave us.” [audience laughing] [woman] Houston, Texas. Houston, Texas. What time is it there? 8:30 in the morning. Jesus Christ! [laughs] You’re watching stand-up for breakfast? Are you f*ckin’ serious? I’ve never had a gig where somebody eats poha in the middle of the gig. That’d be f*ckin’ great. Did you see Donald Trump today? It was great. He said, “You can inject disinfectant into your body.” If you inject disinfectant into your body, you don’t have to worry about the coronavirus. You know what I’m saying? Or even cleaning your house anymore. You have other worries, like, you know… Flowers, food, the size of the coffin, you know. Other things that you need to… to think about, man. What a train wreck, your guy is. But I’m really sorry. But, I mean, at least you have, like, some 500 trillion dollars or whatever, right? At least, you know… At least Donald Trump’s plan is not… [imitates Trump] “Er, I want everyone to go to the balcony at 8:00 p.m.” Like, at least that’s not the plan. [all laughing] Can you imagine if that was Donald Trump’s plan… [imitates Trump] “Er, we have the best balconies and I want everybody to go to the balcony at 8:00 p.m. and light a candle.” “We have the best candles in America.” “God bless America, God bless American candles.” “Good night, we’re all gonna die.” Like if that was… [laughs] Er, what’s the first thing you’re gonna do once the lockdown ends? Somebody yell it out. [Ashish] Haircut. Ashish, you look all right, though. -Like, it’s… [Ashish] No, like… If you look at my beard, it’s too much than what I have normally. So, yeah. Beard and hair. I mean, we’re all being polite right now, and ignoring the fact that you need somebody else to trim your beard. Which is… [audience laughing] Just the most privileged f*cking thing in the world. The thing is that I actually used to do that– “No, but Ramu does it so much better.” [audience laughing] “Ramu gets in there, where I don’t want to go.” Barber… When I go to the barber– Shut up. Don’t explain your privilege, own it. [audience laughing] It’s either been, like, close to two months or 16 years since the lockdown began and… We took a little bit of a break from doing the shows because I was going through… some stuff. And now we are back. People come and see a Vir Das show, they come to forget about their shit. They don’t come to see mine. So… put your shit away. ♪ Put your shit away… ♪ [woman] So, it’s 6:50 a.m. right now. 6:50 in the morning. You got up to see a comedy show with your boyfriend? Oh, wow. So, marriage maybe after this? [chuckles] Oh, my God. Okay, it’s too early for this. “It’s too early for this,” as in 6:50 in the morning or in life? What are we talking about exactly? Is it like… What’s the problem? Is it… I should go. [in Hindi] “I haven’t graduated” or “I haven’t taken a dump”? [in English] What is the actual problem? [man] Go back to Canada. Go back to Canada. Aw… [audience laughing] Me and my girlfriend, she’s on the call here. We came here for our engagement ceremony. And are you guys at least together in India right now? No. She’s in Ahmedabad. I am in Baroda. You flew from Canada… [audience laughing] …to India, to symbolically and romantically be together. And the minute you conducted a ceremony that binds you together for life, you f*ckin’ separated… [audience laughing] … and went to different cities. [man] To do the ceremony. I feel like you deserve this predicament. You’re just making bad choices in this relationship. I don’t think you understand the delicate interplay between romance and geography. Er… [audience laughing] [Monika] Hug people. Monika, you’re gonna go out and hug people? I’m of the same opinion as you. I feel like, the second there’s… Forget a vaccine, I feel like, a cure, we are just gonna be touching the shit out of each other. [all laughing] In a non-creepy way. Creepy is such a relative thing. I am kidding. [audience laughing] I was thinking about that the other day. If we get back to offices with social distancing, that’s gonna be terrible for the “Me, Too” guys, right? Where everybody is like six feet away. Just a lonely M.J. Akbar in the office. [audience laughing] [imitates M.J. Akbar] “You’re sexy.” Like, I don’t know… So, you know, every time I do this piece to cams in my own… private reality show that nobody’s watching, I, er… I come off as a bit of a bitch. Despite myself, I’m looking forward to today’s show. One for you, Zoom. First thing you’re going to do once the lockdown ends and we’re all allowed outside. Yell it out. Ride my bike. I mean, go riding, as in riding. I never understand when guys are like, “Dude, I rode my motorcycle.” No, you didn’t. It’s not like you showed up and your Harley was just there running wild like… [huffs, snorts] And you’re like, “Whoa, Harley, whoa.” [snorts] [audience laughing] And then your Harley Davidson took off. You’re like… And you have to jump on to it. Did I tell you, I almost bought a Harley? Like, I almost… And then I realized, “Oh, f*ck, I’m actually not an alpha.” And I think the way that you know that is the way my hands went like that. You know, guys, I’m actually not an alpha. F*ck this virus. F*ck the bat. [man] Play football. This isn’t one of those fantasy things where a lot of guys who can’t play football get into a room together– No, no, no. Play actual, physical football. What’s your position? What do you play? I play right-winger. You play right-winger? Cool. I’m a left-winger myself. Erm… [audience laughing] We have different goals. You know. I wanna score a goal, you know, get a penalty. You guys wanna build a statue that nobody wants. [audience laughing] [Erika] I can go out all day. You can go out all day? One second. What’s up, Erika, where you from? I am from Costa Rica. You’re from Costa Rica? Is there any, erm… Are there COVID patients in Costa Rica? Are there cases or not? No, we can go out all day. It’s fine? Everything’s cool? Yes, everything’s okay. Under control. Okay, I know you’re alone in the room, but can you feel the resentment from everybody else? [audience laughing] I can feel it. International, guys. [all laughing] Yeah. Hey, other Indian comedians, do you have unemployed people from COVID-free countries as your families? I think not. [Shreya] Go on a cruise. “Go on a cruise.” Who the f*ck said that? Shreya, you have no f*ckin’ understanding of how science works? Have you not read every news article ever… that has come out in the last… And where are you going in this cruise? I don’t know. Just to… “I just wanna be… I don’t know.” “I just wanna be stuck on a ship with some people and a virus. That’s my plan.” [boy] Gonna turn 16 tomorrow. You’re 15 years old? Yes. Buddy, don’t take anything I said seriously, all right? [audience laughing] Like, don’t tell anyone you were at this show, all right? Just… It’s all confidential. Don’t worry. Who bought the tickets? I did, myself. You have a debit card at 16? Yes. Are you doing child porn on the side? What the f*ck is happening? -Why do you have– No, not at all, sir. I’m not insinuating that you do child porn. Usually, you get recognized. Like somebody on the Zoom call be like, “Yeah, are you… [audience laughing] …Chintu69?” Er… Just a second. Just a second. Is somebody knocking on your door right now? [man] Yes, yes, yes. [all laughing] Is that your mom, or your girlfriend? Who is that? It’s my mom, actually. I have to take care of my sister, so she’s calling me. Buddy, go do your thing. No, I’m not going to, actually. I’m talking to you. -How old is your sister? -She’s only five years old, actually. She’ll survive, five is enough. [audience laughing] That’s fine. You don’t need to feed them or educate them. She’ll be fine. F*cker, go take care of your sister. I’m not having, like, some, er… child malnutrition on my conscience, you know. I’ve got enough. I did Mastizaade. I feel guilty enough about my life. [woman] From Spain. From Spain? Good Lord, hello. Nice to see you. It looks like you’re looking up so you’re watching me on a television? Yes. Computer’s broken. All right, so then I’ll try and make this look like it should. “Hello. How are you?” Er… [audience laughing] Is that helping you at all? Or not. Are you scared, are you nervous? Like, you know… Or are you just happy to see the f*ck out of each other? It’s weird. It’s weird because, like, er, Spanish are very sociable people. So when you meet somebody, you just kiss. Well, on the cheek. -[audience laughing] -So, its… Social distance is… We have a town called Delhi. It’s the same way, but that’s not, you know… Not quite as consensual as you guys. Yeah, that’s what happens in Delhi. [kisses] [in Hindi] F*ck off, motherf*cker. [in English] Madam, I am being Spanish, okay? Spanish. Er, I’m in Ireland right now. I’m Indian, but I am, at the moment, I’m in Ireland. You know, I guessed you were Indian from the, “Charu…” [mumbling] [audience laughing] So you’re stuck in college? Well, I wouldn’t call it “stuck.” Okay. Because we’re still, like, free to go outside on walks, like… Grocery shopping, and we can go out cycling and stuff like that. So I wouldn’t say, like, I’m stuck. All the other Indians are sitting there like… [in Hindi] “Motherf*cker. You f*ckin’…” [in English] She’s in a Spanish village, f*ckin’ drinking Prosecco. This chick is chilling and going out on her bicycle. Er, I’m doing master’s in Biomedical Engineering. Do you believe that? You believe we are headed for a vaccine September, October types? I highly doubt that, just because the whole process of actually getting a vaccine is so long. You have to, like, sleep with a Poonawalla, you know, it’s tough, er… [audience laughing] Let me tell you, that’s an inside joke. All right, cool. Just me? All right. Today is our first show for London. Er… Yay. Lond, Lond, Lond, Lond, Lond… I’m never gonna get to go to London again. [woman] Go to the pub. Go to the pub? Okay. And what’s your pub drink? What’s the first thing… What do you start the night with? Of course, a martini. A martini. Why is that “of course, a martini”? Maybe you want a beer. Like, I don’t know, if like… I’m not from, er, London. I don’t know why I got Indian when I said that shit. [in Indian accent] I’m not from London, son. No pubs for you. And give Kohinoor back. [audience laughing] Just got married in India on March 13th, the day the world went to shit. And we… Our marriage… Nice. So you’re having like a f*ckin’ pandemic honeymoon. This is great. [audience laughing] Is your kid gonna be… Your kid has gotta be called Corona. That’s just gotta be a thing that happens. Okay, it is, er… 7:00 a.m. on a Sunday and… I’m about to do stand-up comedy for people in New York. This is so f*ckin’ weird. [man] Get a haircut. Get a haircut. There’s a sardar on the… Jaswin, I hope that’s not you. That wasn’t you. All right, cool. [all laughing] Jaswin’s just sitting there like, “When the lockdown is done, I’m done with this Sikhism, I gotta say.” [audience laughing] [Asmita] Get my eyebrows done. Get your eyebrows done. [audience laughing] Same, girl. Need it. Okay, admin, mute her. I thought this would be good. But f*ck this, this is just a… Okay. No, let’s talk about this. Can you not do it yourself? Like, is that not a… Tweezing eyebrows is serious business. You don’t mess around with that. Why? What’s the worst case scenario? You’d just look surprised by life. [audience laughing] You’re just like… Your friends are like, “Wow, Asmita really enjoyed that Starbucks.” “You know what I mean?” “I’ve been to Starbucks with her every day for a decade, but she really got into it today, I gotta say.” In India, people are like… [in Hindi] “I’m not getting any food…” “Workers are migrating, this and that.” [in English] Here it’s like, “I can’t get my eyebrows done, and I can’t drive my car.” You f*ckin’ privileged motherf*ckers. [woman] No, it was a hospital birth. Erm, but it was just really odd. We didn’t have… Like, a nurse wouldn’t come to touch me or anything. So I just had to pretty much have the baby alone. That’s insane. So like, for the first time in history, the dad and the nurse have swapped. -‘Cause now the dad is doing all the work. -[audience laughing] And the nurse is just eight feet away like, “You’re doing great.” [audience laughing] The baby comes out, looks at the dad, and the baby’s like… “Is he the doctor? Why is he crying?” I heard a pretty good story about the virus today. [man 1] Bat ate a fruit. Dropped the fruit. A pig ate it. [audience laughing] The pig got, whatever, cut, slaughtered. Mmm-hmm. Went to that Wuhan wet market or whatever. Okay. Somebody bought the pig. The chef took it to a hotel. Okay. Somebody called him to say, “Compliments to the chef,” so he just wiped his hands, went and shook hands with him. Okay, so I just wanna say, if this is true, then you are a man of average intelligence and good information. [audience laughing] But if you’re f*ckin’ with me, then you’re a pure genius. I just love the confidence. [imitates man 1] “Bat. Ate the pig. Then the pig…” [man 2] I’m from India, stuck in Singapore. Plan was to call my wife here. Okay. But suddenly this pandemic thing, stupid thing came in. All right, cool. I know, the virus is very stupid. We’re the smart ones. [audience laughing] It is day 9,562, and the virus continues to endure. It is like Rocky, part 19. [flushing] Like, I promise you… Is somebody in the toilet? I just heard a flush. Did you guys f*ckin’ hear that shit? [audience laughing] You f*ckin’ hear that shit? [woman 1] Someone’s in the toilet. Someone is taking a dump during my show and it’s not me. [woman 2] This is epic. This is epic. ♪ Me, ma, me, ma, me, ma, me ♪ I’m in Madrid right now. I, er, dance flamenco here in Spain. Ooh, nice. So I’m just waiting to put on the flamenco shoes. I think you can do flamenco dancing socially distanced. Because flamenco’s like a girl who does that stuff and does the tap, tap, tap, with her feet. And then two meters away is just a guy with a guitar looking at her hornily, right? That’s basically flamenco. That’s what that is. Yeah, absolutely. Yeah. He’s like… [imitates guitar strumming] That’s it, that’s the dance. Yeah, lot of sexual tension. He’s like… [imitates guitar strumming] She’s like… [taps feet] “Stay away.” He’s like, “But I love you…” [imitates guitar strumming] “I can see it in your eyes that you want me.” She’s like, “I will hide my eyes, then.” Tsk. So, two nights ago, er… We begin with funny man Vir Das, whose neighbour threatened to cough on him. Probably the craziest night I’ve ever had in Mumbai. Er… The older gentleman sneezed on me. Er, and we’re okay. You know, we… We sorted it out. We’re friends now. But I’m just gonna tell you the story. [clicks tongue] Sneezing on someone is such a f*ckin’ intimate act, you know? It requires, like, consent and proximity, neither one of which I gave. [audience laughing] I wanted to… He was like, “You’ll be haunted,” and I didn’t respond to that. ‘Cause I’m very scared of ghosts. I’ve had, like, a ghost experience in my life. Like, it was in college where, er… [chuckles] I was… I was lying on my bed and I felt somebody sit down on the bed. There was nobody else on the bed. And I knew there was a ghost in the room. And then in my ear, I heard somebody go, [hoarse whisper] “Do you have any ganja?” [audience laughing] And I was like, “What?” And the ghost was like, “Yeah, bro, you have any stash?” “There’s no stash in heaven.” And I was like, “Why is there no stash in heaven?” And he was like, “Think about it, bro. Plants can’t grow on clouds.” [audience laughing] And I never thought about that before. Plants can’t grow on clouds. Do you know what that means? There are no vegetarians in heaven. [audience laughing] I think that’s why they call it heaven. Er… [audience laughing] And I called my lawyer in the middle of the night and she’s like, “This happened. Put it up.” And now, every single news outlet and Twitter outlet, and we’re on the f*ckin’ TV, is carrying this. And I’m positioning like I have a sense of humour about it, right? I have to get a f*ckin’ COVID test now. He pulled down his mask and he was like… He was like… Achew! Like, that’s what happened. [audience laughing] It was really sweet. Like that was the sneeze. He was like… Achew! I feel like what happened was, in his mind, he was like, “I’m gonna sneeze on him,” and his body was like, “No, you’re gonna cough on him.” [audience laughing] And then it just got combined. Your body will do that sometimes. You’re like, “I’m gonna laugh,” and your body is like, “No, you’re gonna fart and shit your pants a little bit.” [audience laughing] And I’m a comic. I know my job. I’m a comic. I will take this shit and I will write jokes about it. Everybody said, “Why didn’t you hit the man?” And the only thing I can think of is somewhere in my mind and in my body, I was like, “Don’t do this. I have a future.” I can’t get cancelled right now. I have a future. How do I even talk to a therapist about this? They’d be like… “Yeah, I’m just gonna refund this session because… they did not teach me this at the University of… Bughtown.” Bughtown? It’s such a pain in the ass to be 40 years old and now find out that you’re a f*ckin’ optimist. [audience laughing] You know, it’s like finding out you’re diabetic, you know what I mean, it’s like… “Oh, I have to change my whole life now, man. F*ck!” “I have to give up stuff that I like, sugar and self-pity.” [woman] No, no, but I’m American. An American who is in Delhi, so I’m from outside of the country. Nice! Yeah, so how long have you been a refugee? [woman] Almost three years now. Almost three years. And what’s your line of work? [woman] It’s, erm, an adjustment. I’m not okay with the locusts coming our way. I’m not okay with that. I can survive the heat, I can survive the dust storms, I can survive the politics, but I draw the line at biblical plagues. Okay, cool. Like every American, that was not the answer to my question, and too much information. [audience laughing] I had asked you what your line of work was. What do you do for a living? [woman] I am a travel agent. We actually got 4,000 American citizens out. We arranged flights for each one of them. Well done! Give her a round of applause. That’s well done to you. That’s great, you know? [all clapping] You know, just taking them out of India, where there are very few cases, and sending them to America. [audience laughing] [laughs] Good for you. Taking them from India where hydroxychloroquine costs 20 rupees, to America… where the medical insurance system is not flawed at all to charge you 3,000% of what the medicine actually costs. [woman] But I chose to stay. [man] Paris. [Vir Das] You’re in Paris? How is the situation in Paris? It’s opening up, right? There are no tourists and everywhere is free, so it’s a lot of fun. Don’t act like a f*ckin’ French person and be all egocentric about this shit. That you have a… To say shit like that, you have to have a French accent. [in French accent] “It is lovely, there are no tourists, I can smoke and…” “I can have this existential misery that is so typically French.” [in normal voice] Like, that’s… But you’re like, “No, there are no tourists, we’re liking it very much, Paris is beautiful.” Like, it’s that… You’re too friendly to pull off French smugness, I’m sorry. [woman 1] I’m from Melbourne. Kind of confused as to what I want to do. Okay. I’m moving on. I can’t hear you. I’m sorry. We don’t have this kind of time. A, these tickets don’t cost enough for me to get into therapy with people and shit. This is 4.99 for charity. [woman 2] We’re from Lagos. [Vir Das] You’re in Nigeria right now? What time is it right now in Africa? Those are two thumbs up, but can you tell the time? [chuckles] [all laughing] [woman 3] I’m an anthropologist. All three of us are. F*ckin’ hell! That is, like, the weirdest threesome I’ve ever seen. No. It’s just a strange… I’m just saying… that if the guy on the left developed an alcohol problem, he’d become the guy on the right. You know what I mean, it’s… Maybe I should just do the show like this, haan? Hey, guys. Er… Lockdown’s going really well. [laughs] [inhales] I will clean myself up. I am gonna make some people laugh. [Sharique] Sheesha. [Vir Das] Sheesha is not available to you? I’m staying with a kid, four months old. I cannot bring that home. And your kid does not like doing sheesha? [audience laughing] Sheesha… [Sharique] Definitely not. Sheesha is not a good substitute for a mother’s teat? [laughing] [Sharique] Definitely not. Listen, beta, we’ve got… [laughs] Listen, beta, we’ve got no lactose, but try this apple. [inhales deeply] Cough freely without being conscious that somebody’s gonna judge you. I work for an airline. It’s a good place to be coughing. [all laughing] Are you cabin crew, or do you work in, like, the offices? Er, the office. -All right, great. Working from home. Nice. Because you just don’t want cabin crew like… [coughing] “Veg or non-veg,” coming down the aisle. [audience laughing] [woman] I’ve come from China. I need to go back. So the first thing I need to do is go to the airport, take a flight and go back home. Okay. And when did the mental problem start? [audience laughing] You’re trying to get back into China? They shut borders to the world, like… Wow, that’s like all of their history. [audience laughing] Today is, er… hmm, a bit of a crazy day. I, er… I got featured in a magazine called Q. Much of my idols were on there. Like Seinfeld, Ellen DeGeneres and Letterman and Chappelle and Chris Rock, etc. I had like a small feature. And… I was reading the bigger features and I saw Jerry Seinfeld and Chris Rock talking to each other in a café. And they… talked about me. As in, I came up. It wasn’t like they got together… [chuckles] [imitates Chris Rock] “Jerry, we got to talk about Vir.” No. No, that’s… They’re talking about many things and I happen to come up. Jerry Seinfeld told Chris Rock, erm, “I saw this Indian guy, Vir Das.” “Saw some of his stuff. He’s a really funny guy.” Across the world. I’m sitting in… a 100 square-foot room in Bandra. And… in a café in New York… Jerry Seinfeld is telling Chris Rock… that I’m funny. Vir actually turns, er, 36… erm, on Sunday. No, f*ck off, Kavi. -I wanted to sing “Happy Birthday” to him. No, don’t do this shit. Please don’t do this shit. It’s embarrassing. One, two, three. [all singing] ♪ Happy birthday to you ♪ ♪ Happy birthday to you ♪ It’s my birthday tomorrow. [indistinct singing] In this moment… I feel eight years old. Isha Paliwal, is this your lovely baby in the frame? No, I’m her aunt. Okay, great. That’s somebody else’s baby that you have put on camera without their consent. [all laughing] She’s just your youngest fan. [woman] Aw… I… How am I supposed to communicate with the baby? What do you think is gonna happen right now? Oh, well, she can reply, “Hmm, hmm, hmm…” Great, er… [audience laughing] Hello, baby. Thank you, baby, for watching this Zoom call. And I apologize, baby, for the pandemic that is out there even though you don’t f*ckin’ know what a pandemic is. [audience laughing] It’s not working, Isha. I tried, all right? F*ckin’ hell. This… Like, I’m sorry. I’m sorry. No, no. I’m very sorry. Like, I’m really good on feedback and trying to improve my craft, but this f*ckin’ baby is a bad audience member. All right. That’s what I’m gonna say. This baby is a terrible audience member and does not belong at a stand-up comedy show. [Yuvan] London. You’re in London right now? This is your lovely friend, or… This is my lovely friend. Her name’s Emily. Emily, you guys are seeing each other? Absolutely. Great, and, er, marriage on the cards? Oh, gosh, no. Oh… [all laughing] I’ve never had a breakup on Zoom before. I think this might be my first, guys. This is great. “Oh, f*ck, no.” He couldn’t control it, you know? Emily, you like this Indian man, yeah? Well, not right now, no. [all laughing] Oh, Yuvan, enjoy the other bedroom and/or sofa tonight. So every time I do a show, er, when you open the door, I’m gonna show you what happens. Er… First thing when you open the door. You ready? Hang on. Let me put this viewfinder… This is the door to my study. Every time you open that door… what you see… [chuckles] is the one audience member who has watched… many, many shows. Which one of you is Smarnika, because if… This one. I said that. Because if the three of you are Smarnika, then it’s like one of those OSHO ashram things, you know what I mean? Like you are… “All women are Smarnika.” [all laughing] “You must find your inner Smarnika.” “Release your Smarnika.” Oh. [audience laughing] It’s so strange that, you know, the western sexual revolution throughout history has been driven by Indian men who, back home, nobody wanted to f*ck in the first place. [woman] I’m in Bombay. You’re in Bombay. I wanna have Thai food so I’ll go to Nara Thai. Like, they fry the betel leaf and then there’s this chutney type thing that comes along which is amazing. [laughs] What the… Okay, I’m not gonna pretend to know. What the f*ck is a betel leaf? [man] Paan ka patta. [in Hindi] You should’ve said that. “Woman from Thane.” [all laughing] [in English] “I’ll have a betel leaf.” [laughs] [all laughing] Paan patta. Paan. [audience laughing] [in Hindi] Say, “Paan,” not betel leaf. [in English] I love it, man. I feel… Betel leaf sounds like a safe word during sex, you know what I mean? [audience laughing] You know, couples have safe words, you know? I feel like, she sticks a finger up your ass, you’ll be like, “Betel leaf, betel leaf.” [audience laughing] And when she doesn’t get it, you’re like, “Paan ka patta, paan ka patta. Pull it out.” [audience laughing] Last show. I am, er… leaving tomorrow. [man] Live the same way. Er, Malhar Broker? -Yeah. -Okay, is your last name “Broker”? -Yeah, yeah, yeah. [laughs] Are you a broker? Er, no. No, of course, yeah, why would you be? That’s, yeah… Cool. No, my last name is Das and I’m not a servant. It’s okay. [audience laughing] All right. Malhar, what do you do? I’m a baker now. [Vir Das laughing] You’re called Broker Baker? Broker… [audience laughing] [Malhar] Nice name. Broker Baker. You’re just gonna go out and bake more bread for the city of… Mumbai? Ahmedabad. Of Ahmedabad? You’re… You’re in a bakery in Gujarat? Yeah. [audience laughing] I don’t think I have to say it. But I think you know what I’m thinking of. [all laughing] I’m just gonna move on really, really quickly. [man] I don’t know how to go to settings, to get out of privacy thing. [all laughing] Er, so, Uncle, what you do is, you go to the top right. I can’t believe… Ishaan, why do I have to explain technology to your f*ckin’ parents, dude? [audience laughing] Dad, it’s on the top right. “Dad, it’s on the top right.” [man] Son, I did that. I just switched in the start window. Ishaan, he did that shit. [all laughing] [man] This sounds complex. It’s very complex. Ishaan, you should’ve trained your parents better. -I’m just saying, all right? -I know, I know. [Vir Das] What did your mom want? [Aneyant] She wanted to watch it, too. Of course she’s welcome to watch it, don’t be silly. If she wants to sit down and… yeah. Er… Why am I trying to peek like I can see through your… [all laughing] Hi, Aunty. Why am I bending again? Good evening. Your son is learning a lot in this show. Er… Aunty, do you know about the girlfriend? Yeah, I… I have some, erm… You know. [all laughing] This is gonna be a silent f*ckin’ dinner at home, right? “You embarrassed the shit outta me, Mom. In front of that old-ass comedian.” [audience laughing] He’s a sweet kid. He was. [Vir Das] Cole. Nicole, er… Shiflet? Hey, I’m a healthcare worker. You’re a healthcare worker? Round of applause, immediately. Let’s do it, come on, guys. Well done. So is Dr. Sujay Jaju with us this evening? Yes. Are you here, sir? You know, I say that in public all the time, just to get a round of applause. That’s what I do. You’re isolated in Mumbai and you’re watching my show as you’re isolated in Mumbai. [Sujay] Yes, I am. Er, and so, this is your day off? It is. I’m a night shifter. You’re a night shifter. I work in the emergency department. I’m a paramedic. How are you feeling? I’ll begin by asking, how’s your health? Er, it’s improving each day. Like, I had a bit of fever and also stuff… COVID-related complex… But I am doing great. Yeah. You’re a paramedic in the ER? God, so you’ve had a long, I imagine, three months, right? -Yeah. For sure. And I imagine you’ve seen some stuff. Do you know how you got it? Where you got it? [Sujay] Er, actually, I was posted in COVID duty. I was posted in medicine merge for over a month. So, I might have contracted, er, the infection over there. But I know that I’ll come back stronger. Sir, I promise you two things, all right? Well, tonight’s show is entirely dedicated to you. You have my word as an artist that I will make sure it reaches the maximum amount of people that I can make it reach. It is your day off and I’m gonna give every ounce of my being to make sure that you have a good day today. Yeah, it’s definitely not as scary as we think. Actually, it’s been made a lot, er, scarier by the people. We all know the basics of this thing. [Sujay] Yeah. Wash your hands, don’t touch your face, touch your balls. Exactly. We all know the… [audience laughing] Obviously. [audience laughing] You’re in isolation. You understand as well, Doctor. [Sujay] Yeah. Thank you for everything you’re doing. Don’t be silly. Look, the entire show is in Hindi. Erm… [audience laughing] I, erm… Erm… Twelve years now, and it takes a lot to surprise me in this profession. We started doing these shows because we had to. For charity. And it was important and… I was a little bit cranky about it because I was like, “I don’t know if this’ll work.” For the first time, I’m looking into my audience’s houses. That’s a very weird thing to happen as an artist, you know, where the soundtrack to my life has been laughter. Every evening, I hear laughter. And I never thought that I would hear this much laughter in a lockdown. For the first time, I can see you, and your life. As opposed to you just coming and seeing me. From… everywhere in the world. So I… I thank you. Because, erm… So it’s really strange. I’ve been performing for you over a decade, but it’s like we’ve just met. You know, this show is for charity and we’ve raised money, and I hope you’ve had a good time as well, but… it is deeply… meaningful to me, to be able to practice my art form in this. You know, it’s not when there’s a cure, it’s when… It’s when you no longer fear death, I, as an artist, get to live again. And that’s very ironic. To wait on that. And not drown. Or get rusty. And the fact that we have a healthcare worker today, I… I don’t think that this could be more perfect to wrap it up, because… This is my last show. Erm… It’s true. ‘Cause we leave Bombay tomorrow. I should… I should show you the room. Why the f*ck not? This is where I’ve lived for the last few… That’s the desk. Erm… It’s kind of a wall with all my posters. That’s my books and my hats. And tomorrow… I hope the universe pays you and every healthcare worker tenfold, ten thousand fold. And thank you for everything that you do. And thank you so much for watching the show tonight, guys. I hope you had a good time. [soft guitar music playing] Bye. [Vir Das] Whatever it is that you want to do when the new world reopens, I hope you get to do it. And I hope you’re safe. In case you were wondering what we did the second the world reopened… Well… [upbeat music playing] Your email address will not be published. Required fields are marked * Name* E-mail* Website  \\n\\n Dave Chappelle talks about Kanye West, the 2022 midterm elections and Donald Trump. Dave Chappelle delivers a speech at his prestigious alma mater that reflects on his comedy roots, his rise to fame and why artists “should never behave.” With topics ranging from tight rompers to ugly bras to why every man needs a box spring, Iliza remains the hilarious, affecting voice of her generation. Features Gabriel “Fluffy” Iglesias as he talks about growing up in Los Angeles, an attempt at extortion towards him, and where he holds the record for receiving the highest fine on stage.'"
            ],
            "application/vnd.google.colaboratory.intrinsic+json": {
              "type": "string"
            }
          },
          "metadata": {},
          "execution_count": 16
        }
      ]
    },
    {
      "cell_type": "code",
      "source": [
        "# First round of text cleaning techniques\n",
        "import re\n",
        "import string\n",
        "\n",
        "def clean_text_round1(text):\n",
        "    '''Make text lowercase, remove text in square brackets, remove punctuation and remove words containing numbers.'''\n",
        "    text = text.lower()\n",
        "    text = re.sub('\\[.*?\\]', '', text)\n",
        "    text = re.sub('[%s]' % re.escape(string.punctuation), '', text)\n",
        "    text = re.sub('\\w*\\d\\w*', '', text)\n",
        "    return text\n",
        "\n",
        "round1 = lambda x: clean_text_round1(x)"
      ],
      "metadata": {
        "id": "eY7TpvMBlAsk"
      },
      "execution_count": 17,
      "outputs": []
    },
    {
      "cell_type": "code",
      "source": [
        "# Updated text\n",
        "data_clean = pd.DataFrame(data_df.transcript.apply(round1))\n",
        "data_clean"
      ],
      "metadata": {
        "colab": {
          "base_uri": "https://localhost:8080/",
          "height": 426
        },
        "id": "vrz2FbovlDxg",
        "outputId": "928ea27d-6947-4021-f805-92290baaf162"
      },
      "execution_count": 18,
      "outputs": [
        {
          "output_type": "execute_result",
          "data": {
            "text/plain": [
              "                                                                                                                                                                                             transcript\n",
              "carlin    recorded on january –  state theatre new brunswick new jersey so you want to talk about it oh yeah it all started in  i mean that’s when i started doing it regularly how many times have ...\n",
              "dave      what’s in a name is a  talk chappelle delivered at duke ellington school of the arts in washington dc on june      art is dangerous\\nit is one of the attractions when it ceases to be dan...\n",
              "fluffy     can you please state your name martin moreno but you might know me as… martinnnnn i’ve been touring with gabriel iglesias for  years martinnnnn and yeah he’s been screaming my name for ...\n",
              "fortune      please welcome fortune feimster ♪ i’m a powerful woman ♪ ♪ always get what i want ♪ ♪ so don’t you get in my way now that’s not what i want ♪ ♪ ‘cause i’m a powerful woman ♪ ♪ always ...\n",
              "louis     recorded at the madison square garden on august      ♪♪  ♪♪ ♪ once upon a time you dressed so fine ♪\\n♪ threw the bums a dime in your prime ♪\\n♪ didn’t you ♪ ♪♪ ♪ people call say beware ...\n",
              "mcintyre  released on september    ladies and gentlemen please welcome to the stage michael mcintyre bravo good evening ladies and gentlemen welcome… …to my netflix special let’s do this thank you...\n",
              "norm      norm was working hard preparing material for his netflix special – until covid shut things down in the summer of  he was scheduled to undergo a procedure and as he put it “didn’t want to...\n",
              "papa        ladies and gentlemen tom papa    thank you thank you thank you look at you look at you new jersey  yeah that’s why i’m here it’s the people it’s definitely not the weather it’s the peo...\n",
              "ricky       good evening ladies and gentlemen please welcome to the stage a man who really doesn’t need to do this  ricky gervais     hello hello thank you  shush thank you very much shush no shus...\n",
              "stewart   ’ german rock music playing announcer ladies and gentlemen it’s time to enter the carpet remnant world of stewart lee audience applauding that was a bit heavy metal rock and roll that ca...\n",
              "taylor     ♪ darling go ♪ ♪ hey ♪\\n♪ watch your head ♪\\n♪ don’t look down baby ♪\\n♪ under the bed ♪\\n♪ let it show ♪\\n♪ what you’ve read… ♪  ladies and gentlemen please welcome taylor tomlinson  w...\n",
              "vir         what you’re about to watch wasn’t supposed to happen it’s completely unscripted it was totally unplanned it’s just… a moment in time when the world shut down we decided to do  shows fo..."
            ],
            "text/html": [
              "\n",
              "  <div id=\"df-957875e2-0d00-4607-866f-b26fd9c1b021\">\n",
              "    <div class=\"colab-df-container\">\n",
              "      <div>\n",
              "<style scoped>\n",
              "    .dataframe tbody tr th:only-of-type {\n",
              "        vertical-align: middle;\n",
              "    }\n",
              "\n",
              "    .dataframe tbody tr th {\n",
              "        vertical-align: top;\n",
              "    }\n",
              "\n",
              "    .dataframe thead th {\n",
              "        text-align: right;\n",
              "    }\n",
              "</style>\n",
              "<table border=\"1\" class=\"dataframe\">\n",
              "  <thead>\n",
              "    <tr style=\"text-align: right;\">\n",
              "      <th></th>\n",
              "      <th>transcript</th>\n",
              "    </tr>\n",
              "  </thead>\n",
              "  <tbody>\n",
              "    <tr>\n",
              "      <th>carlin</th>\n",
              "      <td>recorded on january –  state theatre new brunswick new jersey so you want to talk about it oh yeah it all started in  i mean that’s when i started doing it regularly how many times have ...</td>\n",
              "    </tr>\n",
              "    <tr>\n",
              "      <th>dave</th>\n",
              "      <td>what’s in a name is a  talk chappelle delivered at duke ellington school of the arts in washington dc on june      art is dangerous\\nit is one of the attractions when it ceases to be dan...</td>\n",
              "    </tr>\n",
              "    <tr>\n",
              "      <th>fluffy</th>\n",
              "      <td>can you please state your name martin moreno but you might know me as… martinnnnn i’ve been touring with gabriel iglesias for  years martinnnnn and yeah he’s been screaming my name for ...</td>\n",
              "    </tr>\n",
              "    <tr>\n",
              "      <th>fortune</th>\n",
              "      <td>please welcome fortune feimster ♪ i’m a powerful woman ♪ ♪ always get what i want ♪ ♪ so don’t you get in my way now that’s not what i want ♪ ♪ ‘cause i’m a powerful woman ♪ ♪ always ...</td>\n",
              "    </tr>\n",
              "    <tr>\n",
              "      <th>louis</th>\n",
              "      <td>recorded at the madison square garden on august      ♪♪  ♪♪ ♪ once upon a time you dressed so fine ♪\\n♪ threw the bums a dime in your prime ♪\\n♪ didn’t you ♪ ♪♪ ♪ people call say beware ...</td>\n",
              "    </tr>\n",
              "    <tr>\n",
              "      <th>mcintyre</th>\n",
              "      <td>released on september    ladies and gentlemen please welcome to the stage michael mcintyre bravo good evening ladies and gentlemen welcome… …to my netflix special let’s do this thank you...</td>\n",
              "    </tr>\n",
              "    <tr>\n",
              "      <th>norm</th>\n",
              "      <td>norm was working hard preparing material for his netflix special – until covid shut things down in the summer of  he was scheduled to undergo a procedure and as he put it “didn’t want to...</td>\n",
              "    </tr>\n",
              "    <tr>\n",
              "      <th>papa</th>\n",
              "      <td>ladies and gentlemen tom papa    thank you thank you thank you look at you look at you new jersey  yeah that’s why i’m here it’s the people it’s definitely not the weather it’s the peo...</td>\n",
              "    </tr>\n",
              "    <tr>\n",
              "      <th>ricky</th>\n",
              "      <td>good evening ladies and gentlemen please welcome to the stage a man who really doesn’t need to do this  ricky gervais     hello hello thank you  shush thank you very much shush no shus...</td>\n",
              "    </tr>\n",
              "    <tr>\n",
              "      <th>stewart</th>\n",
              "      <td>’ german rock music playing announcer ladies and gentlemen it’s time to enter the carpet remnant world of stewart lee audience applauding that was a bit heavy metal rock and roll that ca...</td>\n",
              "    </tr>\n",
              "    <tr>\n",
              "      <th>taylor</th>\n",
              "      <td>♪ darling go ♪ ♪ hey ♪\\n♪ watch your head ♪\\n♪ don’t look down baby ♪\\n♪ under the bed ♪\\n♪ let it show ♪\\n♪ what you’ve read… ♪  ladies and gentlemen please welcome taylor tomlinson  w...</td>\n",
              "    </tr>\n",
              "    <tr>\n",
              "      <th>vir</th>\n",
              "      <td>what you’re about to watch wasn’t supposed to happen it’s completely unscripted it was totally unplanned it’s just… a moment in time when the world shut down we decided to do  shows fo...</td>\n",
              "    </tr>\n",
              "  </tbody>\n",
              "</table>\n",
              "</div>\n",
              "      <button class=\"colab-df-convert\" onclick=\"convertToInteractive('df-957875e2-0d00-4607-866f-b26fd9c1b021')\"\n",
              "              title=\"Convert this dataframe to an interactive table.\"\n",
              "              style=\"display:none;\">\n",
              "        \n",
              "  <svg xmlns=\"http://www.w3.org/2000/svg\" height=\"24px\"viewBox=\"0 0 24 24\"\n",
              "       width=\"24px\">\n",
              "    <path d=\"M0 0h24v24H0V0z\" fill=\"none\"/>\n",
              "    <path d=\"M18.56 5.44l.94 2.06.94-2.06 2.06-.94-2.06-.94-.94-2.06-.94 2.06-2.06.94zm-11 1L8.5 8.5l.94-2.06 2.06-.94-2.06-.94L8.5 2.5l-.94 2.06-2.06.94zm10 10l.94 2.06.94-2.06 2.06-.94-2.06-.94-.94-2.06-.94 2.06-2.06.94z\"/><path d=\"M17.41 7.96l-1.37-1.37c-.4-.4-.92-.59-1.43-.59-.52 0-1.04.2-1.43.59L10.3 9.45l-7.72 7.72c-.78.78-.78 2.05 0 2.83L4 21.41c.39.39.9.59 1.41.59.51 0 1.02-.2 1.41-.59l7.78-7.78 2.81-2.81c.8-.78.8-2.07 0-2.86zM5.41 20L4 18.59l7.72-7.72 1.47 1.35L5.41 20z\"/>\n",
              "  </svg>\n",
              "      </button>\n",
              "      \n",
              "  <style>\n",
              "    .colab-df-container {\n",
              "      display:flex;\n",
              "      flex-wrap:wrap;\n",
              "      gap: 12px;\n",
              "    }\n",
              "\n",
              "    .colab-df-convert {\n",
              "      background-color: #E8F0FE;\n",
              "      border: none;\n",
              "      border-radius: 50%;\n",
              "      cursor: pointer;\n",
              "      display: none;\n",
              "      fill: #1967D2;\n",
              "      height: 32px;\n",
              "      padding: 0 0 0 0;\n",
              "      width: 32px;\n",
              "    }\n",
              "\n",
              "    .colab-df-convert:hover {\n",
              "      background-color: #E2EBFA;\n",
              "      box-shadow: 0px 1px 2px rgba(60, 64, 67, 0.3), 0px 1px 3px 1px rgba(60, 64, 67, 0.15);\n",
              "      fill: #174EA6;\n",
              "    }\n",
              "\n",
              "    [theme=dark] .colab-df-convert {\n",
              "      background-color: #3B4455;\n",
              "      fill: #D2E3FC;\n",
              "    }\n",
              "\n",
              "    [theme=dark] .colab-df-convert:hover {\n",
              "      background-color: #434B5C;\n",
              "      box-shadow: 0px 1px 3px 1px rgba(0, 0, 0, 0.15);\n",
              "      filter: drop-shadow(0px 1px 2px rgba(0, 0, 0, 0.3));\n",
              "      fill: #FFFFFF;\n",
              "    }\n",
              "  </style>\n",
              "\n",
              "      <script>\n",
              "        const buttonEl =\n",
              "          document.querySelector('#df-957875e2-0d00-4607-866f-b26fd9c1b021 button.colab-df-convert');\n",
              "        buttonEl.style.display =\n",
              "          google.colab.kernel.accessAllowed ? 'block' : 'none';\n",
              "\n",
              "        async function convertToInteractive(key) {\n",
              "          const element = document.querySelector('#df-957875e2-0d00-4607-866f-b26fd9c1b021');\n",
              "          const dataTable =\n",
              "            await google.colab.kernel.invokeFunction('convertToInteractive',\n",
              "                                                     [key], {});\n",
              "          if (!dataTable) return;\n",
              "\n",
              "          const docLinkHtml = 'Like what you see? Visit the ' +\n",
              "            '<a target=\"_blank\" href=https://colab.research.google.com/notebooks/data_table.ipynb>data table notebook</a>'\n",
              "            + ' to learn more about interactive tables.';\n",
              "          element.innerHTML = '';\n",
              "          dataTable['output_type'] = 'display_data';\n",
              "          await google.colab.output.renderOutput(dataTable, element);\n",
              "          const docLink = document.createElement('div');\n",
              "          docLink.innerHTML = docLinkHtml;\n",
              "          element.appendChild(docLink);\n",
              "        }\n",
              "      </script>\n",
              "    </div>\n",
              "  </div>\n",
              "  "
            ]
          },
          "metadata": {},
          "execution_count": 18
        }
      ]
    },
    {
      "cell_type": "code",
      "source": [
        "# Second round of cleaning\n",
        "def clean_text_round2(text):\n",
        "    '''Get rid of some additional punctuation and non-sensical text that was missed the first time around.'''\n",
        "    text = re.sub('[‘’“”…♪–]', '', text)\n",
        "    text = re.sub('\\n', '', text)\n",
        "    return text\n",
        "\n",
        "round2 = lambda x: clean_text_round2(x)"
      ],
      "metadata": {
        "id": "ogg4ZUSolNV8"
      },
      "execution_count": 19,
      "outputs": []
    },
    {
      "cell_type": "code",
      "source": [
        "# Updated text\n",
        "data_clean = pd.DataFrame(data_clean.transcript.apply(round2))\n",
        "data_clean"
      ],
      "metadata": {
        "colab": {
          "base_uri": "https://localhost:8080/",
          "height": 426
        },
        "id": "GDwPLbPuldvZ",
        "outputId": "ae63d78c-6ab0-4059-dad2-ac4e21c85c80"
      },
      "execution_count": 21,
      "outputs": [
        {
          "output_type": "execute_result",
          "data": {
            "text/plain": [
              "                                                                                                                                                                                             transcript\n",
              "carlin    recorded on january   state theatre new brunswick new jersey so you want to talk about it oh yeah it all started in  i mean thats when i started doing it regularly how many times have yo...\n",
              "dave      whats in a name is a  talk chappelle delivered at duke ellington school of the arts in washington dc on june      art is dangerousit is one of the attractions when it ceases to be danger...\n",
              "fluffy     can you please state your name martin moreno but you might know me as martinnnnn ive been touring with gabriel iglesias for  years martinnnnn and yeah hes been screaming my name for  ye...\n",
              "fortune      please welcome fortune feimster  im a powerful woman   always get what i want   so dont you get in my way now thats not what i want   cause im a powerful woman   always get what i wan...\n",
              "louis     recorded at the madison square garden on august          once upon a time you dressed so fine  threw the bums a dime in your prime  didnt you    people call say beware doll  youre bound ...\n",
              "mcintyre  released on september    ladies and gentlemen please welcome to the stage michael mcintyre bravo good evening ladies and gentlemen welcome to my netflix special lets do this thank you if...\n",
              "norm      norm was working hard preparing material for his netflix special  until covid shut things down in the summer of  he was scheduled to undergo a procedure and as he put it didnt want to le...\n",
              "papa        ladies and gentlemen tom papa    thank you thank you thank you look at you look at you new jersey  yeah thats why im here its the people its definitely not the weather its the people t...\n",
              "ricky       good evening ladies and gentlemen please welcome to the stage a man who really doesnt need to do this  ricky gervais     hello hello thank you  shush thank you very much shush no shush...\n",
              "stewart    german rock music playing announcer ladies and gentlemen its time to enter the carpet remnant world of stewart lee audience applauding that was a bit heavy metal rock and roll that can ...\n",
              "taylor      darling go   hey  watch your head  dont look down baby  under the bed  let it show  what youve read   ladies and gentlemen please welcome taylor tomlinson  wow i hope my ex sees this t...\n",
              "vir         what youre about to watch wasnt supposed to happen its completely unscripted it was totally unplanned its just a moment in time when the world shut down we decided to do  shows for cha..."
            ],
            "text/html": [
              "\n",
              "  <div id=\"df-c50690c4-edc8-4b58-9b1f-8864e0638226\">\n",
              "    <div class=\"colab-df-container\">\n",
              "      <div>\n",
              "<style scoped>\n",
              "    .dataframe tbody tr th:only-of-type {\n",
              "        vertical-align: middle;\n",
              "    }\n",
              "\n",
              "    .dataframe tbody tr th {\n",
              "        vertical-align: top;\n",
              "    }\n",
              "\n",
              "    .dataframe thead th {\n",
              "        text-align: right;\n",
              "    }\n",
              "</style>\n",
              "<table border=\"1\" class=\"dataframe\">\n",
              "  <thead>\n",
              "    <tr style=\"text-align: right;\">\n",
              "      <th></th>\n",
              "      <th>transcript</th>\n",
              "    </tr>\n",
              "  </thead>\n",
              "  <tbody>\n",
              "    <tr>\n",
              "      <th>carlin</th>\n",
              "      <td>recorded on january   state theatre new brunswick new jersey so you want to talk about it oh yeah it all started in  i mean thats when i started doing it regularly how many times have yo...</td>\n",
              "    </tr>\n",
              "    <tr>\n",
              "      <th>dave</th>\n",
              "      <td>whats in a name is a  talk chappelle delivered at duke ellington school of the arts in washington dc on june      art is dangerousit is one of the attractions when it ceases to be danger...</td>\n",
              "    </tr>\n",
              "    <tr>\n",
              "      <th>fluffy</th>\n",
              "      <td>can you please state your name martin moreno but you might know me as martinnnnn ive been touring with gabriel iglesias for  years martinnnnn and yeah hes been screaming my name for  ye...</td>\n",
              "    </tr>\n",
              "    <tr>\n",
              "      <th>fortune</th>\n",
              "      <td>please welcome fortune feimster  im a powerful woman   always get what i want   so dont you get in my way now thats not what i want   cause im a powerful woman   always get what i wan...</td>\n",
              "    </tr>\n",
              "    <tr>\n",
              "      <th>louis</th>\n",
              "      <td>recorded at the madison square garden on august          once upon a time you dressed so fine  threw the bums a dime in your prime  didnt you    people call say beware doll  youre bound ...</td>\n",
              "    </tr>\n",
              "    <tr>\n",
              "      <th>mcintyre</th>\n",
              "      <td>released on september    ladies and gentlemen please welcome to the stage michael mcintyre bravo good evening ladies and gentlemen welcome to my netflix special lets do this thank you if...</td>\n",
              "    </tr>\n",
              "    <tr>\n",
              "      <th>norm</th>\n",
              "      <td>norm was working hard preparing material for his netflix special  until covid shut things down in the summer of  he was scheduled to undergo a procedure and as he put it didnt want to le...</td>\n",
              "    </tr>\n",
              "    <tr>\n",
              "      <th>papa</th>\n",
              "      <td>ladies and gentlemen tom papa    thank you thank you thank you look at you look at you new jersey  yeah thats why im here its the people its definitely not the weather its the people t...</td>\n",
              "    </tr>\n",
              "    <tr>\n",
              "      <th>ricky</th>\n",
              "      <td>good evening ladies and gentlemen please welcome to the stage a man who really doesnt need to do this  ricky gervais     hello hello thank you  shush thank you very much shush no shush...</td>\n",
              "    </tr>\n",
              "    <tr>\n",
              "      <th>stewart</th>\n",
              "      <td>german rock music playing announcer ladies and gentlemen its time to enter the carpet remnant world of stewart lee audience applauding that was a bit heavy metal rock and roll that can ...</td>\n",
              "    </tr>\n",
              "    <tr>\n",
              "      <th>taylor</th>\n",
              "      <td>darling go   hey  watch your head  dont look down baby  under the bed  let it show  what youve read   ladies and gentlemen please welcome taylor tomlinson  wow i hope my ex sees this t...</td>\n",
              "    </tr>\n",
              "    <tr>\n",
              "      <th>vir</th>\n",
              "      <td>what youre about to watch wasnt supposed to happen its completely unscripted it was totally unplanned its just a moment in time when the world shut down we decided to do  shows for cha...</td>\n",
              "    </tr>\n",
              "  </tbody>\n",
              "</table>\n",
              "</div>\n",
              "      <button class=\"colab-df-convert\" onclick=\"convertToInteractive('df-c50690c4-edc8-4b58-9b1f-8864e0638226')\"\n",
              "              title=\"Convert this dataframe to an interactive table.\"\n",
              "              style=\"display:none;\">\n",
              "        \n",
              "  <svg xmlns=\"http://www.w3.org/2000/svg\" height=\"24px\"viewBox=\"0 0 24 24\"\n",
              "       width=\"24px\">\n",
              "    <path d=\"M0 0h24v24H0V0z\" fill=\"none\"/>\n",
              "    <path d=\"M18.56 5.44l.94 2.06.94-2.06 2.06-.94-2.06-.94-.94-2.06-.94 2.06-2.06.94zm-11 1L8.5 8.5l.94-2.06 2.06-.94-2.06-.94L8.5 2.5l-.94 2.06-2.06.94zm10 10l.94 2.06.94-2.06 2.06-.94-2.06-.94-.94-2.06-.94 2.06-2.06.94z\"/><path d=\"M17.41 7.96l-1.37-1.37c-.4-.4-.92-.59-1.43-.59-.52 0-1.04.2-1.43.59L10.3 9.45l-7.72 7.72c-.78.78-.78 2.05 0 2.83L4 21.41c.39.39.9.59 1.41.59.51 0 1.02-.2 1.41-.59l7.78-7.78 2.81-2.81c.8-.78.8-2.07 0-2.86zM5.41 20L4 18.59l7.72-7.72 1.47 1.35L5.41 20z\"/>\n",
              "  </svg>\n",
              "      </button>\n",
              "      \n",
              "  <style>\n",
              "    .colab-df-container {\n",
              "      display:flex;\n",
              "      flex-wrap:wrap;\n",
              "      gap: 12px;\n",
              "    }\n",
              "\n",
              "    .colab-df-convert {\n",
              "      background-color: #E8F0FE;\n",
              "      border: none;\n",
              "      border-radius: 50%;\n",
              "      cursor: pointer;\n",
              "      display: none;\n",
              "      fill: #1967D2;\n",
              "      height: 32px;\n",
              "      padding: 0 0 0 0;\n",
              "      width: 32px;\n",
              "    }\n",
              "\n",
              "    .colab-df-convert:hover {\n",
              "      background-color: #E2EBFA;\n",
              "      box-shadow: 0px 1px 2px rgba(60, 64, 67, 0.3), 0px 1px 3px 1px rgba(60, 64, 67, 0.15);\n",
              "      fill: #174EA6;\n",
              "    }\n",
              "\n",
              "    [theme=dark] .colab-df-convert {\n",
              "      background-color: #3B4455;\n",
              "      fill: #D2E3FC;\n",
              "    }\n",
              "\n",
              "    [theme=dark] .colab-df-convert:hover {\n",
              "      background-color: #434B5C;\n",
              "      box-shadow: 0px 1px 3px 1px rgba(0, 0, 0, 0.15);\n",
              "      filter: drop-shadow(0px 1px 2px rgba(0, 0, 0, 0.3));\n",
              "      fill: #FFFFFF;\n",
              "    }\n",
              "  </style>\n",
              "\n",
              "      <script>\n",
              "        const buttonEl =\n",
              "          document.querySelector('#df-c50690c4-edc8-4b58-9b1f-8864e0638226 button.colab-df-convert');\n",
              "        buttonEl.style.display =\n",
              "          google.colab.kernel.accessAllowed ? 'block' : 'none';\n",
              "\n",
              "        async function convertToInteractive(key) {\n",
              "          const element = document.querySelector('#df-c50690c4-edc8-4b58-9b1f-8864e0638226');\n",
              "          const dataTable =\n",
              "            await google.colab.kernel.invokeFunction('convertToInteractive',\n",
              "                                                     [key], {});\n",
              "          if (!dataTable) return;\n",
              "\n",
              "          const docLinkHtml = 'Like what you see? Visit the ' +\n",
              "            '<a target=\"_blank\" href=https://colab.research.google.com/notebooks/data_table.ipynb>data table notebook</a>'\n",
              "            + ' to learn more about interactive tables.';\n",
              "          element.innerHTML = '';\n",
              "          dataTable['output_type'] = 'display_data';\n",
              "          await google.colab.output.renderOutput(dataTable, element);\n",
              "          const docLink = document.createElement('div');\n",
              "          docLink.innerHTML = docLinkHtml;\n",
              "          element.appendChild(docLink);\n",
              "        }\n",
              "      </script>\n",
              "    </div>\n",
              "  </div>\n",
              "  "
            ]
          },
          "metadata": {},
          "execution_count": 21
        }
      ]
    },
    {
      "cell_type": "markdown",
      "source": [
        "## Organising the Text"
      ],
      "metadata": {
        "id": "YSA0OBvylnoz"
      }
    },
    {
      "cell_type": "code",
      "source": [],
      "metadata": {
        "id": "FKtF_zjelho4"
      },
      "execution_count": null,
      "outputs": []
    }
  ]
}